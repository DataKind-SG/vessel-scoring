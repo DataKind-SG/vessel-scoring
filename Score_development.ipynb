{
 "cells": [
  {
   "cell_type": "code",
   "execution_count": 1,
   "metadata": {
    "collapsed": false
   },
   "outputs": [
    {
     "name": "stdout",
     "output_type": "stream",
     "text": [
      "Populating the interactive namespace from numpy and matplotlib\n"
     ]
    }
   ],
   "source": [
    "%pylab inline"
   ]
  },
  {
   "cell_type": "code",
   "execution_count": 2,
   "metadata": {
    "collapsed": false
   },
   "outputs": [],
   "source": [
    "import csv\n",
    "from scipy.optimize import *\n",
    "from numpy.lib.recfunctions import *\n",
    "from utils import *\n",
    "from data import *"
   ]
  },
  {
   "cell_type": "code",
   "execution_count": 3,
   "metadata": {
    "collapsed": false
   },
   "outputs": [
    {
     "data": {
      "text/plain": [
       "('classification',\n",
       " 'distance_to_port',\n",
       " 'distance_to_shore',\n",
       " 'measure_course_diff',\n",
       " 'measure_courseavg_10800',\n",
       " 'measure_courseavg_1800',\n",
       " 'measure_courseavg_21600',\n",
       " 'measure_courseavg_3600',\n",
       " 'measure_courseavg_43200',\n",
       " 'measure_courseavg_86400',\n",
       " 'measure_coursestddev_10800',\n",
       " 'measure_coursestddev_1800',\n",
       " 'measure_coursestddev_21600',\n",
       " 'measure_coursestddev_3600',\n",
       " 'measure_coursestddev_43200',\n",
       " 'measure_coursestddev_86400',\n",
       " 'measure_distance_to_port',\n",
       " 'measure_heading_diff',\n",
       " 'measure_new_score_10800',\n",
       " 'measure_new_score_1800',\n",
       " 'measure_new_score_21600',\n",
       " 'measure_new_score_3600',\n",
       " 'measure_new_score_43200',\n",
       " 'measure_new_score_86400',\n",
       " 'measure_pos_10800',\n",
       " 'measure_pos_1800',\n",
       " 'measure_pos_21600',\n",
       " 'measure_pos_3600',\n",
       " 'measure_pos_43200',\n",
       " 'measure_pos_86400',\n",
       " 'measure_speed',\n",
       " 'measure_speed_diff',\n",
       " 'measure_speedavg_10800',\n",
       " 'measure_speedavg_1800',\n",
       " 'measure_speedavg_21600',\n",
       " 'measure_speedavg_3600',\n",
       " 'measure_speedavg_43200',\n",
       " 'measure_speedavg_86400',\n",
       " 'measure_speedstddev_10800',\n",
       " 'measure_speedstddev_1800',\n",
       " 'measure_speedstddev_21600',\n",
       " 'measure_speedstddev_3600',\n",
       " 'measure_speedstddev_43200',\n",
       " 'measure_speedstddev_86400',\n",
       " 'speed',\n",
       " 'timestamp',\n",
       " 'timestamp_diff')"
      ]
     },
     "execution_count": 3,
     "metadata": {},
     "output_type": "execute_result"
    }
   ],
   "source": [
    "# Print data columns\n",
    "x.dtype.names"
   ]
  },
  {
   "cell_type": "code",
   "execution_count": 4,
   "metadata": {
    "collapsed": false
   },
   "outputs": [
    {
     "name": "stdout",
     "output_type": "stream",
     "text": [
      "[1800, 3600, 10800, 21600, 43200, 86400]\n"
     ]
    }
   ],
   "source": [
    "windows = [int(name[len(\"measure_courseavg_\"):]) for name in x.dtype.names if name.startswith(\"measure_courseavg_\")]\n",
    "windows.sort()\n",
    "print windows"
   ]
  },
  {
   "cell_type": "code",
   "execution_count": 5,
   "metadata": {
    "collapsed": false
   },
   "outputs": [],
   "source": [
    "for window in windows:\n",
    "    x = append_fields(x, 'measure_speedstddev_%s_log' % window, [], dtypes='<f8', fill_value=0.0)\n",
    "    x['measure_speedstddev_%s_log' % window] = log10(x['measure_speedstddev_%s' % window]+0.001)\n",
    "\n",
    "    x = append_fields(x, 'measure_coursestddev_%s_log' % window, [], dtypes='<f8', fill_value=0.0)\n",
    "    x['measure_coursestddev_%s_log' % window] = log10(x['measure_coursestddev_%s' % window]+0.001)\n"
   ]
  },
  {
   "cell_type": "code",
   "execution_count": 18,
   "metadata": {
    "collapsed": false
   },
   "outputs": [
    {
     "name": "stdout",
     "output_type": "stream",
     "text": [
      "[  1.22494629e+05  -1.50094862e-03  -2.19866391e-04   1.96406011e-06\n",
      "  -1.15893622e+05  -2.46993800e+00   5.09184992e+00  -2.93332788e+00\n",
      "   1.22494629e+05   3.15396796e-01   1.68373636e-01   3.03675507e-02\n",
      "   1.22494629e+05   1.37619129e-01   1.02236318e-01   1.78182153e-02\n",
      "  -1.75045435e+04  -1.05081836e+00   1.80995274e+00  -9.20344399e-01\n",
      "   1.22494629e+05  -1.60426843e-01  -7.67484593e-02  -1.09730374e-02\n",
      "   1.22494629e+05   3.66612815e-02   2.11597841e-02   2.05890155e-03\n",
      "   2.09016703e+04  -3.72194342e+00   6.17924746e+00  -3.15104563e+00\n",
      "   1.22494629e+05  -5.40404991e-02  -1.96644815e-02   1.72542545e-03\n",
      "   1.22494629e+05  -1.01072844e-01  -9.26315166e-02  -2.28987495e-02\n",
      "  -3.21226974e+04  -3.32763736e+00   4.53119474e+00  -2.07589220e+00\n",
      "   1.22494629e+05  -9.12294109e-02  -1.05375604e-01  -2.30947744e-02\n",
      "   1.22494629e+05  -3.74750885e-01  -3.33155013e-01  -7.14124110e-02\n",
      "  -1.37088425e+04   3.51014796e+00  -3.84530269e+00   1.27079785e+00\n",
      "  -1.43410078e+06  -1.15299138e+00  -8.03847032e-01  -1.53038157e-01\n",
      "   1.22494629e+05  -9.85642192e-01  -9.14024586e-01  -2.09832410e-01\n",
      "   1.22494629e+05  -1.72409490e+00   5.08396358e+00  -3.93786135e+00\n",
      "   1.22494629e+05   1.10335854e-01   3.39639953e-02  -7.14885363e-03\n",
      "   1.22494629e+05   4.93610081e-01   2.12864320e-01   2.43201325e-02]\n"
     ]
    }
   ],
   "source": [
    "cols = [\"speed\"]\n",
    "for window in windows:\n",
    "    cols += ['measure_speedavg_%s' % window,\n",
    "             'measure_speedstddev_%s_log' % window,\n",
    "             'measure_coursestddev_%s_log' % window]\n",
    "cols = [x[col] for col in cols]\n",
    "    \n",
    "score_args = curve_fit(mpolynomial, cols, x['classification'], [1]*(len(cols)*4))[0]\n",
    "\n",
    "print score_args"
   ]
  },
  {
   "cell_type": "code",
   "execution_count": 19,
   "metadata": {
    "collapsed": false
   },
   "outputs": [
    {
     "data": {
      "image/png": "[encoded data removed]",
      "text/plain": [
       "<matplotlib.figure.Figure at 0x7fa5bf86df10>"
      ]
     },
     "metadata": {},
     "output_type": "display_data"
    }
   ],
   "source": [
    "try:\n",
    "    x = append_fields(x, 'score', [], dtypes='<f8', fill_value=0.0)\n",
    "except:\n",
    "    pass\n",
    "\n",
    "x['score'][:] = mpolynomial(cols, *score_args)\n",
    "\n",
    "xfishy = fishy(x)\n",
    "xnonfishy = nonfishy(x)\n",
    "\n",
    "\n",
    "histfig = figure(figsize=(20,5))\n",
    "\n",
    "subplot = histfig.add_subplot(211)\n",
    "new_score_fishy = subplot.hist(xfishy[\"measure_new_score_3600\"][xfishy['distance_to_shore'] > 3], bins=200, normed=False, color='b', alpha=0.5, label=\"fishy score\")\n",
    "new_score_nonfishy = subplot.hist(xnonfishy[\"measure_new_score_3600\"][xnonfishy['distance_to_shore'] > 3], bins=200, normed=False, color='r', alpha=0.5, label=\"nonfishy score\")\n",
    "legend()\n",
    "\n",
    "subplot = histfig.add_subplot(212)\n",
    "score_fishy = subplot.hist(xfishy[\"score\"][xfishy['distance_to_shore'] > 3], bins=200, normed=False, color='b', alpha=0.5, label=\"fishy score\")\n",
    "score_nonfishy = subplot.hist(xnonfishy[\"score\"][xnonfishy['distance_to_shore'] > 3], bins=200, normed=False, color='r', alpha=0.5, label=\"nonfishy score\")\n",
    "legend()\n",
    "\n",
    "\n",
    "show()\n"
   ]
  },
  {
   "cell_type": "code",
   "execution_count": 20,
   "metadata": {
    "collapsed": false
   },
   "outputs": [
    {
     "name": "stdout",
     "output_type": "stream",
     "text": [
      "Error for measure_new_score: 42.1728959889%\n",
      "Error for score: 18.4058125795%\n"
     ]
    }
   ],
   "source": [
    "total = sum(new_score_fishy[0] + new_score_nonfishy[0])\n",
    "non_overlap = sum(abs(new_score_fishy[0] - new_score_nonfishy[0]))\n",
    "overlap = total - non_overlap\n",
    "error = overlap / total\n",
    "\n",
    "print \"Error for measure_new_score: %s%%\" % (error * 100)\n",
    "\n",
    "\n",
    "total = sum(score_fishy[0] + score_nonfishy[0])\n",
    "non_overlap = sum(abs(score_fishy[0] - score_nonfishy[0]))\n",
    "overlap = total - non_overlap\n",
    "error = overlap / total\n",
    "\n",
    "print \"Error for score: %s%%\" % (error * 100)"
   ]
  },
  {
   "cell_type": "code",
   "execution_count": null,
   "metadata": {
    "collapsed": true
   },
   "outputs": [],
   "source": []
  }
 ],
 "metadata": {
  "kernelspec": {
   "display_name": "Python 2",
   "language": "python",
   "name": "python2"
  },
  "language_info": {
   "codemirror_mode": {
    "name": "ipython",
    "version": 2
   },
   "file_extension": ".py",
   "mimetype": "text/x-python",
   "name": "python",
   "nbconvert_exporter": "python",
   "pygments_lexer": "ipython2",
   "version": "2.7.6"
  }
 },
 "nbformat": 4,
 "nbformat_minor": 0
}
