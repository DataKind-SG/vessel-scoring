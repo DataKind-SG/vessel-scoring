{
 "cells": [
  {
   "cell_type": "code",
   "execution_count": 1,
   "metadata": {
    "collapsed": false
   },
   "outputs": [
    {
     "name": "stdout",
     "output_type": "stream",
     "text": [
      "Populating the interactive namespace from numpy and matplotlib\n",
      "Warning, insufficient items to sample, returning all\n",
      "Warning, inufficient items to sample, returning 4430\n",
      "Warning, inufficient items to sample, returning 2084\n"
     ]
    }
   ],
   "source": [
    "%pylab inline\n",
    "import vessel_scoring.models\n",
    "import vessel_scoring.add_measures\n",
    "from numpy.lib.recfunctions import *\n",
    "\n",
    "model = vessel_scoring.models.train_models()[0][1]\n"
   ]
  },
  {
   "cell_type": "code",
   "execution_count": 5,
   "metadata": {
    "collapsed": false
   },
   "outputs": [
    {
     "name": "stderr",
     "output_type": "stream",
     "text": [
      "addmeasures: 0\n",
      "addmeasures: 0\n",
      "addmeasures: 0\n",
      "addmeasures: 0\n",
      "addmeasures: 0\n",
      "addmeasures: 0\n"
     ]
    },
    {
     "data": {
      "text/plain": [
       "(array([ 477.,   85.,   25.,    6.,    4.,    0.,    0.,    0.,    0.,    8.]),\n",
       " array([  7.63294547e-04,   1.00686965e-01,   2.00610636e-01,\n",
       "          3.00534306e-01,   4.00457977e-01,   5.00381647e-01,\n",
       "          6.00305318e-01,   7.00228988e-01,   8.00152659e-01,\n",
       "          9.00076329e-01,   1.00000000e+00]),\n",
       " <a list of 10 Patch objects>)"
      ]
     },
     "execution_count": 5,
     "metadata": {},
     "output_type": "execute_result"
    },
    {
     "data": {
      "image/png": "[encoded data removed]",
      "text/plain": [
       "<matplotlib.figure.Figure at 0x7f623df8b710>"
      ]
     },
     "metadata": {},
     "output_type": "display_data"
    }
   ],
   "source": [
    "x = numpy.load(\"datasets/transit-412354445.npz\")['x']\n",
    "x = x[isnan(x['speed']) == False]\n",
    "x = x[isnan(x['course']) == False]\n",
    "#x['mmsi'] = numpy.ceil(x['mmsi'])\n",
    "# x = x[lexsort((x['timestamp'], x['mmsi']))]\n",
    "x = vessel_scoring.add_measures.add_measures(x)\n",
    "for name in x.dtype.names:\n",
    "    if 'stddev' in name and \"_log\" not in name:\n",
    "        x = append_fields(x, name + \"_log\", [], dtypes='<f8', fill_value=0.0)\n",
    "        x[name + \"_log\"] = log10(x[name] + 0.000001)\n",
    "score = model.predict_proba(x)[:,1]\n",
    "plt.hist(score)"
   ]
  },
  {
   "cell_type": "code",
   "execution_count": null,
   "metadata": {
    "collapsed": true
   },
   "outputs": [],
   "source": []
  }
 ],
 "metadata": {
  "kernelspec": {
   "display_name": "Python 2",
   "language": "python",
   "name": "python2"
  },
  "language_info": {
   "codemirror_mode": {
    "name": "ipython",
    "version": 2
   },
   "file_extension": ".py",
   "mimetype": "text/x-python",
   "name": "python",
   "nbconvert_exporter": "python",
   "pygments_lexer": "ipython2",
   "version": "2.7.6"
  }
 },
 "nbformat": 4,
 "nbformat_minor": 0
}
