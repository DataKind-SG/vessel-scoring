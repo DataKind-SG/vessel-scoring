{
 "cells": [
  {
   "cell_type": "markdown",
   "metadata": {},
   "source": [
    "Examine sensitivity of current best model (Gear-Specific, Multi-Window \n",
    "Logistic Model with is-daylight) with respect to degredation of the AIS\n",
    "data. \n",
    "\n",
    "We train as normal, then progessively randomly dropout more and more of\n",
    "the training data and see how that effects the resulting reported\n",
    "accuracies."
   ]
  },
  {
   "cell_type": "code",
   "execution_count": 1,
   "metadata": {
    "collapsed": false
   },
   "outputs": [],
   "source": [
    "%matplotlib inline\n",
    "from __future__ import print_function, division\n",
    "import sys\n",
    "sys.path.append('..')\n",
    "from vessel_scoring import data, utils\n",
    "from vessel_scoring.models import train_model_on_data\n",
    "from vessel_scoring.evaluate_model import evaluate_model, compare_models\n",
    "from IPython.core.display import display, HTML, Markdown\n",
    "import numpy as np\n",
    "from sklearn import metrics\n",
    "import matplotlib.pyplot as plt"
   ]
  },
  {
   "cell_type": "code",
   "execution_count": 2,
   "metadata": {
    "collapsed": true
   },
   "outputs": [],
   "source": [
    "from vessel_scoring.logistic_model import LogisticModel\n",
    "\n",
    "def make_model(seed=4321):\n",
    "    return LogisticModel(colspec=dict(\n",
    "        windows=[1800, 3600, 10800, 21600, 43200, 86400],\n",
    "        measures=['measure_daylight', 'measure_speed']), order=6, random_state=seed)\n"
   ]
  },
  {
   "cell_type": "code",
   "execution_count": 3,
   "metadata": {
    "collapsed": false
   },
   "outputs": [],
   "source": [
    "def load_data(suffix='', seed=4321):\n",
    "    # Data supplied by Kristina\n",
    "    _, train_lline,  valid_lline, test_lline = data.load_dataset_by_vessel(\n",
    "            '../datasets/kristina_longliner.measures{}.npz'.format(suffix), seed)\n",
    "    _, train_trawl,  valid_trawl, test_trawl = data.load_dataset_by_vessel(\n",
    "            '../datasets/kristina_trawl.measures{}.npz'.format(suffix), seed)\n",
    "    _, train_pseine, valid_pseine, test_pseine = data.load_dataset_by_vessel(\n",
    "            '../datasets/kristina_ps.measures{}.npz'.format(suffix), seed)\n",
    "\n",
    "    # Slow transits (used to train models to avoid classifying slow transits as fishing)\n",
    "    TRANSIT_WEIGHT = 10\n",
    "    x_tran, xtrain_tran, xcross_tran, xtest_tran = data.load_dataset_by_vessel(\n",
    "                        '../datasets/slow-transits.measures{}.npz'.format(suffix), even_split=False, seed=seed)\n",
    "    xtrain_tran = utils.clone_subset(xtrain_tran, test_lline.dtype)\n",
    "    xcross_tran = utils.clone_subset(xcross_tran, test_lline.dtype)\n",
    "    xtest_tran = utils.clone_subset(xtest_tran, test_lline.dtype)\n",
    "    train_tran = np.concatenate([xtrain_tran, xcross_tran] * TRANSIT_WEIGHT)\n",
    "\n",
    "    train = {'longliner': np.concatenate([train_lline, valid_lline, train_tran]), \n",
    "                'trawler': np.concatenate([train_trawl, valid_trawl, train_tran]),\n",
    "                'purse_seine': np.concatenate([train_pseine, valid_pseine, train_tran])}\n",
    "    \n",
    "    test = {'longliner': test_lline, \n",
    "            'trawler': test_trawl, \n",
    "            'purse_seine': test_pseine}\n",
    "    \n",
    "    return train, test"
   ]
  },
  {
   "cell_type": "markdown",
   "metadata": {},
   "source": [
    "To create the features:\n",
    "\n",
    "```\n",
    "python scripts/add_all_features.py --keep 0.5\n",
    "python scripts/add_all_features.py --keep 0.2\n",
    "python scripts/add_all_features.py --keep 0.1\n",
    "python scripts/add_all_features.py --keep 0.05\n",
    "python scripts/add_all_features.py --keep 0.02\n",
    "python scripts/add_all_features.py --keep 0.01\n",
    "python scripts/add_all_features.py --keep 0.002\n",
    "python scripts/add_all_features.py --keep 0.005\n",
    "```"
   ]
  },
  {
   "cell_type": "code",
   "execution_count": 4,
   "metadata": {
    "collapsed": false
   },
   "outputs": [
    {
     "name": "stdout",
     "output_type": "stream",
     "text": [
      "Warning, insufficient items to sample, returning all\n",
      "Warning, insufficient items to sample, returning all"
     ]
    },
    {
     "name": "stderr",
     "output_type": "stream",
     "text": [
      "../vessel_scoring/data.py:89: UserWarning: Warning, inufficient items to sample, returning 4430\n",
      "  warnings.warn(\"Warning, inufficient items to sample, returning {}\".format(len(x)))\n",
      "../vessel_scoring/data.py:89: UserWarning: Warning, inufficient items to sample, returning 2084\n",
      "  warnings.warn(\"Warning, inufficient items to sample, returning {}\".format(len(x)))\n",
      "../vessel_scoring/data.py:89: UserWarning: Warning, inufficient items to sample, returning 2244\n",
      "  warnings.warn(\"Warning, inufficient items to sample, returning {}\".format(len(x)))\n"
     ]
    },
    {
     "name": "stdout",
     "output_type": "stream",
     "text": [
      "\n",
      "Warning, insufficient items to sample, returning all"
     ]
    },
    {
     "name": "stderr",
     "output_type": "stream",
     "text": [
      "../vessel_scoring/data.py:89: UserWarning: Warning, inufficient items to sample, returning 1084\n",
      "  warnings.warn(\"Warning, inufficient items to sample, returning {}\".format(len(x)))\n",
      "../vessel_scoring/data.py:89: UserWarning: Warning, inufficient items to sample, returning 922\n",
      "  warnings.warn(\"Warning, inufficient items to sample, returning {}\".format(len(x)))\n",
      "../vessel_scoring/data.py:89: UserWarning: Warning, inufficient items to sample, returning 453\n",
      "  warnings.warn(\"Warning, inufficient items to sample, returning {}\".format(len(x)))\n",
      "../vessel_scoring/data.py:65: UserWarning: inufficient items to sample, returning fewer\n",
      "  warnings.warn(\"inufficient items to sample, returning fewer\")\n"
     ]
    },
    {
     "name": "stdout",
     "output_type": "stream",
     "text": [
      "\n",
      "Warning, insufficient items to sample, returning all\n",
      "Warning, insufficient items to sample, returning all"
     ]
    },
    {
     "name": "stderr",
     "output_type": "stream",
     "text": [
      "../vessel_scoring/data.py:89: UserWarning: Warning, inufficient items to sample, returning 467\n",
      "  warnings.warn(\"Warning, inufficient items to sample, returning {}\".format(len(x)))\n",
      "../vessel_scoring/data.py:89: UserWarning: Warning, inufficient items to sample, returning 225\n",
      "  warnings.warn(\"Warning, inufficient items to sample, returning {}\".format(len(x)))\n",
      "../vessel_scoring/data.py:89: UserWarning: Warning, inufficient items to sample, returning 81\n",
      "  warnings.warn(\"Warning, inufficient items to sample, returning {}\".format(len(x)))\n"
     ]
    },
    {
     "name": "stdout",
     "output_type": "stream",
     "text": [
      "\n",
      "Warning, insufficient items to sample, returning all\n",
      "Warning, insufficient items to sample, returning all"
     ]
    },
    {
     "name": "stderr",
     "output_type": "stream",
     "text": [
      "../vessel_scoring/data.py:89: UserWarning: Warning, inufficient items to sample, returning 37\n",
      "  warnings.warn(\"Warning, inufficient items to sample, returning {}\".format(len(x)))\n",
      "../vessel_scoring/data.py:89: UserWarning: Warning, inufficient items to sample, returning 24\n",
      "  warnings.warn(\"Warning, inufficient items to sample, returning {}\".format(len(x)))\n"
     ]
    },
    {
     "name": "stdout",
     "output_type": "stream",
     "text": [
      "\n",
      "Warning, insufficient items to sample, returning all\n",
      "Warning, insufficient items to sample, returning all\n",
      "Warning, insufficient items to sample, returning all"
     ]
    },
    {
     "name": "stderr",
     "output_type": "stream",
     "text": [
      "../vessel_scoring/data.py:89: UserWarning: Warning, inufficient items to sample, returning 578\n",
      "  warnings.warn(\"Warning, inufficient items to sample, returning {}\".format(len(x)))\n",
      "../vessel_scoring/data.py:89: UserWarning: Warning, inufficient items to sample, returning 919\n",
      "  warnings.warn(\"Warning, inufficient items to sample, returning {}\".format(len(x)))\n",
      "../vessel_scoring/data.py:89: UserWarning: Warning, inufficient items to sample, returning 12\n",
      "  warnings.warn(\"Warning, inufficient items to sample, returning {}\".format(len(x)))\n"
     ]
    },
    {
     "name": "stdout",
     "output_type": "stream",
     "text": [
      "\n",
      "Warning, insufficient items to sample, returning all\n",
      "Warning, insufficient items to sample, returning all\n",
      "Warning, insufficient items to sample, returning all\n",
      "Warning, insufficient items to sample, returning all\n",
      "Warning, insufficient items to sample, returning all\n",
      "Warning, insufficient items to sample, returning all\n"
     ]
    },
    {
     "name": "stderr",
     "output_type": "stream",
     "text": [
      "../vessel_scoring/data.py:89: UserWarning: Warning, inufficient items to sample, returning 371\n",
      "  warnings.warn(\"Warning, inufficient items to sample, returning {}\".format(len(x)))\n",
      "../vessel_scoring/data.py:89: UserWarning: Warning, inufficient items to sample, returning 6\n",
      "  warnings.warn(\"Warning, inufficient items to sample, returning {}\".format(len(x)))\n"
     ]
    },
    {
     "data": {
      "text/html": [
       "<h2>Purse Seine</h2>"
      ],
      "text/plain": [
       "<IPython.core.display.HTML object>"
      ]
     },
     "metadata": {},
     "output_type": "display_data"
    },
    {
     "data": {
      "text/markdown": [
       "|Keep Prob|Recall|Precision|F1-Score|ROC-AUC|\n",
       "|---------|------|---------|--------|-------|\n",
       "|1|0.81|0.26|0.39|0.94|\n",
       "|0.5|0.67|0.24|0.35|0.89|\n",
       "|0.2|0.61|0.21|0.31|0.89|\n",
       "|0.1|0.52|0.24|0.33|0.84|\n",
       "|0.05|0.50|0.17|0.26|0.89|\n",
       "|0.02|0.23|0.14|0.17|0.80|\n",
       "|0.01|0.20|0.14|0.16|0.85|\n",
       "|0.005|0.21|0.20|0.21|0.89|\n",
       "|0.002|0.00|0.00|0.00|0.94|"
      ],
      "text/plain": [
       "<IPython.core.display.Markdown object>"
      ]
     },
     "metadata": {},
     "output_type": "display_data"
    },
    {
     "data": {
      "text/html": [
       "<hr/>"
      ],
      "text/plain": [
       "<IPython.core.display.HTML object>"
      ]
     },
     "metadata": {},
     "output_type": "display_data"
    },
    {
     "data": {
      "text/html": [
       "<h2>Trawler</h2>"
      ],
      "text/plain": [
       "<IPython.core.display.HTML object>"
      ]
     },
     "metadata": {},
     "output_type": "display_data"
    },
    {
     "data": {
      "text/markdown": [
       "|Keep Prob|Recall|Precision|F1-Score|ROC-AUC|\n",
       "|---------|------|---------|--------|-------|\n",
       "|1|0.87|0.94|0.90|0.95|\n",
       "|0.5|0.81|0.93|0.87|0.94|\n",
       "|0.2|0.81|0.93|0.87|0.94|\n",
       "|0.1|0.73|0.95|0.83|0.93|\n",
       "|0.05|0.67|0.97|0.79|0.92|\n",
       "|0.02|0.50|0.96|0.66|0.90|\n",
       "|0.01|0.36|0.94|0.52|0.87|\n",
       "|0.005|0.23|0.95|0.37|0.88|\n",
       "|0.002|0.08|0.89|0.15|0.89|"
      ],
      "text/plain": [
       "<IPython.core.display.Markdown object>"
      ]
     },
     "metadata": {},
     "output_type": "display_data"
    },
    {
     "data": {
      "text/html": [
       "<hr/>"
      ],
      "text/plain": [
       "<IPython.core.display.HTML object>"
      ]
     },
     "metadata": {},
     "output_type": "display_data"
    },
    {
     "data": {
      "text/html": [
       "<h2>Longliner</h2>"
      ],
      "text/plain": [
       "<IPython.core.display.HTML object>"
      ]
     },
     "metadata": {},
     "output_type": "display_data"
    },
    {
     "data": {
      "text/markdown": [
       "|Keep Prob|Recall|Precision|F1-Score|ROC-AUC|\n",
       "|---------|------|---------|--------|-------|\n",
       "|1|0.90|0.94|0.92|0.95|\n",
       "|0.5|0.88|0.96|0.92|0.94|\n",
       "|0.2|0.87|0.96|0.92|0.94|\n",
       "|0.1|0.84|0.95|0.89|0.94|\n",
       "|0.05|0.80|0.97|0.88|0.94|\n",
       "|0.02|0.63|0.96|0.76|0.90|\n",
       "|0.01|0.48|0.98|0.65|0.88|\n",
       "|0.005|0.33|0.96|0.49|0.82|\n",
       "|0.002|0.12|0.96|0.21|0.83|"
      ],
      "text/plain": [
       "<IPython.core.display.Markdown object>"
      ]
     },
     "metadata": {},
     "output_type": "display_data"
    },
    {
     "data": {
      "text/html": [
       "<hr/>"
      ],
      "text/plain": [
       "<IPython.core.display.HTML object>"
      ]
     },
     "metadata": {},
     "output_type": "display_data"
    }
   ],
   "source": [
    "keep_probs = [1, 0.5, 0.2, 0.1, 0.05, 0.02, 0.01, 0.005, 0.002]\n",
    "\n",
    "train_data, test_data = load_data()\n",
    "\n",
    "drop_test = {1: test_data}\n",
    "for kp in keep_probs[1:]:\n",
    "    suffix = '-{}'.format(str(kp).replace('.', ''))\n",
    "    drop_test[kp] = load_data(suffix=suffix)[1]\n",
    "\n",
    "predictions = {}\n",
    "\n",
    "for gear in ['purse_seine', 'trawler', 'longliner']:\n",
    "    mdl = make_model()\n",
    "    train_model_on_data(mdl, train_data[gear])\n",
    "    \n",
    "    display(HTML(\"<h2>{}</h2>\".format(gear.replace('_', ' ').title())))\n",
    "                \n",
    "    predictions[gear] = []\n",
    "    for kp in keep_probs:  \n",
    "\n",
    "        td = drop_test[kp][gear]\n",
    "            \n",
    "        raw = mdl.predict_proba(td)[:,1]\n",
    "        predictions[gear].append((kp, td, raw, (raw > 0.5), td['classification'] > 0.5))\n",
    "\n",
    "    lines = [\"|Keep Prob|Recall|Precision|F1-Score|ROC-AUC|\",\n",
    "             \"|---------|------|---------|--------|-------|\"]\n",
    "    for name, td, raw, pred, actual in predictions[gear]:\n",
    "        fpr, tpr, thresholds = metrics.roc_curve(actual, raw)\n",
    "        auc = metrics.auc(fpr, tpr)\n",
    "        lines.append(\"|{}|{:.2f}|{:.2f}|{:.2f}|{:.2f}|\".format(name, \n",
    "                                            metrics.recall_score(actual, pred),\n",
    "                                            metrics.precision_score(actual, pred), \n",
    "                                            metrics.f1_score(actual, pred),\n",
    "                                            auc))\n",
    "\n",
    "    display(Markdown('\\n'.join(lines)))    \n",
    "    display(HTML(\"<hr/>\"))"
   ]
  },
  {
   "cell_type": "markdown",
   "metadata": {},
   "source": [
    "The loss of recall of recall / precission as AIS is dropped out is surprisingly low. \n",
    "Precision / recall appears to be only modestly effected when dropping out 80% of the\n",
    "original AIS signal, with the exception of purse seiners, where 50% of the signal can\n",
    "be dropped with only modest reductions of recall / precision."
   ]
  },
  {
   "cell_type": "code",
   "execution_count": 5,
   "metadata": {
    "collapsed": false
   },
   "outputs": [
    {
     "data": {
      "text/html": [
       "<h2>Purse Seine</h2>"
      ],
      "text/plain": [
       "<IPython.core.display.HTML object>"
      ]
     },
     "metadata": {},
     "output_type": "display_data"
    },
    {
     "data": {
      "text/markdown": [
       "|Keep Prob|Predicted|Threshold|Nominal|\n",
       "|---------|---------|---------|-------|\n",
       "|1|1512.36|1142.27|373.63|\n",
       "|0.5|1488.71|1037.76|433.86|\n",
       "|0.2|1315.15|860.24|287.81|\n",
       "|0.1|1267.22|840.48|419.79|\n",
       "|0.05|998.81|719.34|269.89|\n",
       "|0.02|792.04|540.76|340.79|\n",
       "|0.01|571.61|331.72|265.68|\n",
       "|0.005|213.71|120.44|139.98|\n",
       "|0.002|52.68|8.17|60.00|"
      ],
      "text/plain": [
       "<IPython.core.display.Markdown object>"
      ]
     },
     "metadata": {},
     "output_type": "display_data"
    },
    {
     "data": {
      "text/html": [
       "<hr/>"
      ],
      "text/plain": [
       "<IPython.core.display.HTML object>"
      ]
     },
     "metadata": {},
     "output_type": "display_data"
    },
    {
     "data": {
      "text/html": [
       "<h2>Trawler</h2>"
      ],
      "text/plain": [
       "<IPython.core.display.HTML object>"
      ]
     },
     "metadata": {},
     "output_type": "display_data"
    },
    {
     "data": {
      "text/markdown": [
       "|Keep Prob|Predicted|Threshold|Nominal|\n",
       "|---------|---------|---------|-------|\n",
       "|1|4861.90|3166.53|5742.73|\n",
       "|0.5|4636.80|3139.62|5793.99|\n",
       "|0.2|4587.38|3119.89|5932.02|\n",
       "|0.1|4042.30|2849.20|5839.84|\n",
       "|0.05|3505.37|2449.78|5710.36|\n",
       "|0.02|2485.84|1876.08|5487.99|\n",
       "|0.01|1763.98|1444.26|5569.29|\n",
       "|0.005|1015.83|937.77|5209.30|\n",
       "|0.002|197.05|136.29|2228.94|"
      ],
      "text/plain": [
       "<IPython.core.display.Markdown object>"
      ]
     },
     "metadata": {},
     "output_type": "display_data"
    },
    {
     "data": {
      "text/html": [
       "<hr/>"
      ],
      "text/plain": [
       "<IPython.core.display.HTML object>"
      ]
     },
     "metadata": {},
     "output_type": "display_data"
    },
    {
     "data": {
      "text/html": [
       "<h2>Longliner</h2>"
      ],
      "text/plain": [
       "<IPython.core.display.HTML object>"
      ]
     },
     "metadata": {},
     "output_type": "display_data"
    },
    {
     "data": {
      "text/markdown": [
       "|Keep Prob|Predicted|Threshold|Nominal|\n",
       "|---------|---------|---------|-------|\n",
       "|1|5305.60|3354.15|6295.45|\n",
       "|0.5|5368.05|3353.30|6421.54|\n",
       "|0.2|5133.51|3268.49|6200.91|\n",
       "|0.1|4998.18|3192.09|6218.56|\n",
       "|0.05|4627.15|3011.64|6370.53|\n",
       "|0.02|3495.47|2479.37|6221.19|\n",
       "|0.01|2616.38|1989.40|6613.87|\n",
       "|0.005|1354.91|1166.13|5064.04|\n",
       "|0.002|283.13|260.86|2485.96|"
      ],
      "text/plain": [
       "<IPython.core.display.Markdown object>"
      ]
     },
     "metadata": {},
     "output_type": "display_data"
    },
    {
     "data": {
      "text/html": [
       "<hr/>"
      ],
      "text/plain": [
       "<IPython.core.display.HTML object>"
      ]
     },
     "metadata": {},
     "output_type": "display_data"
    }
   ],
   "source": [
    "def _fishing_hours_per_mmsi(data, preds):\n",
    "    # assumes single vessel (mmmsi)\n",
    "    indices = np.argsort(data['timestamp'])\n",
    "    data = data[indices]\n",
    "    preds = preds[indices]\n",
    "    thresholded = (preds > 0.5)\n",
    "    dt = (data['timestamp'][1:] - data['timestamp'][:-1]) / (60 * 60)\n",
    "    dt = np.minimum(dt, 12) # no gaps over 12 hours\n",
    "    avg_pred = 0.5 * (preds[1:] + preds[:-1])\n",
    "    avg_thresh = 0.5 * (thresholded[1:] + thresholded[:-1])\n",
    "    avg_nominal = 0.5 * (data['classification'][1:] + data['classification'][:-1])\n",
    "    return (avg_pred * dt).sum(), (avg_thresh * dt).sum(), (avg_nominal * dt).sum()\n",
    "\n",
    "def fishing_hours(data, preds):\n",
    "    mmsi = set(data['mmsi'])\n",
    "    pred_hours = thresh_hours = nominal_hours = 0\n",
    "    for m in mmsi:\n",
    "        mask = (data['mmsi'] == m)\n",
    "        p_hours, t_hours, n_hours = _fishing_hours_per_mmsi(data[mask], preds[mask])\n",
    "        pred_hours += p_hours\n",
    "        thresh_hours += t_hours\n",
    "        nominal_hours += n_hours\n",
    "    return pred_hours, thresh_hours, nominal_hours\n",
    "    \n",
    "    \n",
    "predicted_fishing_hours = {}\n",
    "threshold_fishing_hours = {}\n",
    "nominal_fishing_hours = {}\n",
    "    \n",
    "for gear in ['purse_seine', 'trawler', 'longliner']:\n",
    "    \n",
    "    predicted_fishing_hours[gear] = []\n",
    "    threshold_fishing_hours[gear] = []\n",
    "    nominal_fishing_hours[gear] = []\n",
    "    \n",
    "    display(HTML(\"<h2>{}</h2>\".format(gear.replace('_', ' ').title())))\n",
    "\n",
    "    lines = [\"|Keep Prob|Predicted|Threshold|Nominal|\",\n",
    "             \"|---------|---------|---------|-------|\"]\n",
    "    \n",
    "    for name, td, raw, pred, actual in predictions[gear]:\n",
    "        predicted, threshold, nominal = fishing_hours(td, raw)\n",
    "        predicted_fishing_hours[gear].append(predicted)\n",
    "        threshold_fishing_hours[gear].append(threshold)        \n",
    "        nominal_fishing_hours[gear].append(nominal)\n",
    "        lines.append(\"|{}|{:.2f}|{:.2f}|{:.2f}|\".format(name, \n",
    "                                                 predicted,\n",
    "                                                 threshold,\n",
    "                                                 nominal))\n",
    "    display(Markdown('\\n'.join(lines)))    \n",
    "    display(HTML(\"<hr/>\"))\n",
    "    \n",
    "    "
   ]
  },
  {
   "cell_type": "markdown",
   "metadata": {},
   "source": [
    "Compare the fishing hours calculated based on predictions with those based on hand \n",
    "labelled data. Fishing hours based on prediction are calculated in two ways. \n",
    "One by summing up the fishing scores and the other by thresholding the fishing \n",
    "scores at 0.5. In both cases, the scores are weighted by the gaps between points,\n",
    "capped at 12 hours. See functions above for details."
   ]
  },
  {
   "cell_type": "code",
   "execution_count": 6,
   "metadata": {
    "collapsed": false
   },
   "outputs": [
    {
     "data": {
      "text/html": [
       "<h2>Purse Seine</h2>"
      ],
      "text/plain": [
       "<IPython.core.display.HTML object>"
      ]
     },
     "metadata": {},
     "output_type": "display_data"
    },
    {
     "data": {
      "image/png": "[encoded data removed]",
      "text/plain": [
       "<matplotlib.figure.Figure at 0x10a058bd0>"
      ]
     },
     "metadata": {},
     "output_type": "display_data"
    },
    {
     "data": {
      "text/html": [
       "<hr/>"
      ],
      "text/plain": [
       "<IPython.core.display.HTML object>"
      ]
     },
     "metadata": {},
     "output_type": "display_data"
    },
    {
     "data": {
      "text/html": [
       "<h2>Trawler</h2>"
      ],
      "text/plain": [
       "<IPython.core.display.HTML object>"
      ]
     },
     "metadata": {},
     "output_type": "display_data"
    },
    {
     "data": {
      "image/png": "[encoded data removed]",
      "text/plain": [
       "<matplotlib.figure.Figure at 0x10b192e10>"
      ]
     },
     "metadata": {},
     "output_type": "display_data"
    },
    {
     "data": {
      "text/html": [
       "<hr/>"
      ],
      "text/plain": [
       "<IPython.core.display.HTML object>"
      ]
     },
     "metadata": {},
     "output_type": "display_data"
    },
    {
     "data": {
      "text/html": [
       "<h2>Longliner</h2>"
      ],
      "text/plain": [
       "<IPython.core.display.HTML object>"
      ]
     },
     "metadata": {},
     "output_type": "display_data"
    },
    {
     "data": {
      "image/png": "[encoded data removed]",
      "text/plain": [
       "<matplotlib.figure.Figure at 0x10b7d80d0>"
      ]
     },
     "metadata": {},
     "output_type": "display_data"
    },
    {
     "data": {
      "text/html": [
       "<hr/>"
      ],
      "text/plain": [
       "<IPython.core.display.HTML object>"
      ]
     },
     "metadata": {},
     "output_type": "display_data"
    }
   ],
   "source": [
    "for gear in ['purse_seine', 'trawler', 'longliner']:\n",
    "    \n",
    "    \n",
    "    display(HTML(\"<h2>{}</h2>\".format(gear.replace('_', ' ').title())))\n",
    "\n",
    "    plt.plot(keep_probs, predicted_fishing_hours[gear], label=\"predicted\")   \n",
    "    plt.plot(keep_probs, threshold_fishing_hours[gear], label=\"threshold\")   \n",
    "    plt.plot(keep_probs, nominal_fishing_hours[gear], label=\"hand labelled\")\n",
    "    plt.xscale('log')\n",
    "    plt.xlabel('point fraction')\n",
    "    plt.ylabel('fishing hours')\n",
    "    plt.legend(loc=4)\n",
    "    plt.show()\n",
    "    display(HTML(\"<hr/>\"))"
   ]
  },
  {
   "cell_type": "code",
   "execution_count": 7,
   "metadata": {
    "collapsed": false
   },
   "outputs": [
    {
     "data": {
      "text/html": [
       "<h2>Purse Seine</h2>"
      ],
      "text/plain": [
       "<IPython.core.display.HTML object>"
      ]
     },
     "metadata": {},
     "output_type": "display_data"
    },
    {
     "name": "stdout",
     "output_type": "stream",
     "text": [
      "correlation: 0.117689379006\n"
     ]
    },
    {
     "data": {
      "image/png": "[encoded data removed]",
      "text/plain": [
       "<matplotlib.figure.Figure at 0x1062bf9d0>"
      ]
     },
     "metadata": {},
     "output_type": "display_data"
    },
    {
     "data": {
      "text/html": [
       "<h2>Trawler</h2>"
      ],
      "text/plain": [
       "<IPython.core.display.HTML object>"
      ]
     },
     "metadata": {},
     "output_type": "display_data"
    },
    {
     "name": "stdout",
     "output_type": "stream",
     "text": [
      "correlation: -0.249910374753\n"
     ]
    },
    {
     "data": {
      "image/png": "[encoded data removed]",
      "text/plain": [
       "<matplotlib.figure.Figure at 0x10eab4b10>"
      ]
     },
     "metadata": {},
     "output_type": "display_data"
    },
    {
     "data": {
      "text/html": [
       "<h2>Longliner</h2>"
      ],
      "text/plain": [
       "<IPython.core.display.HTML object>"
      ]
     },
     "metadata": {},
     "output_type": "display_data"
    },
    {
     "name": "stdout",
     "output_type": "stream",
     "text": [
      "correlation: -0.37721607678\n"
     ]
    },
    {
     "data": {
      "image/png": "[encoded data removed]",
      "text/plain": [
       "<matplotlib.figure.Figure at 0x10eb90ed0>"
      ]
     },
     "metadata": {},
     "output_type": "display_data"
    }
   ],
   "source": [
    "for gear in ['purse_seine', 'trawler', 'longliner']:\n",
    "\n",
    "    display(HTML(\"<h2>{}</h2>\".format(gear.replace('_', ' ').title())))\n",
    "\n",
    "    err_chunks = []\n",
    "    count_chunks = []\n",
    "    for name, td, raw, pred, actual in predictions[gear]:\n",
    "        err_chunks.append(raw - td['classification'])\n",
    "        count_chunks.append(td['measure_count_10800'])\n",
    "    errs = np.concatenate(err_chunks)\n",
    "    counts = np.concatenate(count_chunks)\n",
    "\n",
    "    print(\"correlation:\", np.corrcoef(np.log(counts), abs(errs))[1,0])\n",
    "    \n",
    "    bin_starts = []\n",
    "    bins = []\n",
    "    for i in range(20):\n",
    "        start = i * 5\n",
    "        bin_starts.append(start)\n",
    "        stop = (i + 1) * 5\n",
    "        mask = (counts >= start) & (counts < stop)\n",
    "        bins.append((errs[mask]**2).mean())\n",
    "        if mask.sum() < 20:\n",
    "            break\n",
    "    mask = (counts >= stop)\n",
    "    bins.append((errs[mask]**2).mean())\n",
    "    bin_starts.append(stop)\n",
    "\n",
    "\n",
    "    plt.plot(bin_starts, bins)\n",
    "    plt.show()"
   ]
  }
 ],
 "metadata": {
  "kernelspec": {
   "display_name": "Python 2",
   "language": "python",
   "name": "python2"
  },
  "language_info": {
   "codemirror_mode": {
    "name": "ipython",
    "version": 2
   },
   "file_extension": ".py",
   "mimetype": "text/x-python",
   "name": "python",
   "nbconvert_exporter": "python",
   "pygments_lexer": "ipython2",
   "version": "2.7.11"
  }
 },
 "nbformat": 4,
 "nbformat_minor": 0
}
