{
 "cells": [
  {
   "cell_type": "markdown",
   "metadata": {},
   "source": [
    "Examine sensitivity of current best model (Gear-Specific, Multi-Window \n",
    "Logistic Model with is-daylight) with respect to degredation of the AIS\n",
    "data. \n",
    "\n",
    "We train as normal, then progessively randomly dropout more and more of\n",
    "the training data and see how that effects the resulting reported\n",
    "accuracies."
   ]
  },
  {
   "cell_type": "code",
   "execution_count": 1,
   "metadata": {
    "collapsed": false
   },
   "outputs": [],
   "source": [
    "%matplotlib inline\n",
    "from __future__ import print_function, division\n",
    "import sys\n",
    "sys.path.append('..')\n",
    "from vessel_scoring import data, utils\n",
    "from vessel_scoring.models import train_model_on_data\n",
    "from vessel_scoring.evaluate_model import evaluate_model, compare_models\n",
    "from IPython.core.display import display, HTML, Markdown\n",
    "import numpy as np\n",
    "from sklearn import metrics\n",
    "import matplotlib.pyplot as plt"
   ]
  },
  {
   "cell_type": "code",
   "execution_count": 2,
   "metadata": {
    "collapsed": true
   },
   "outputs": [],
   "source": [
    "from vessel_scoring.logistic_model import LogisticModel\n",
    "\n",
    "def make_model(seed=4321):\n",
    "    return LogisticModel(colspec=dict(\n",
    "        windows=[1800, 3600, 10800, 21600, 43200, 86400],\n",
    "        measures=['measure_daylight', 'measure_speed']), order=6, random_state=seed)\n"
   ]
  },
  {
   "cell_type": "code",
   "execution_count": 3,
   "metadata": {
    "collapsed": false
   },
   "outputs": [],
   "source": [
    "def load_data(suffix='', seed=4321, even_split=True):\n",
    "    # Data supplied by Kristina\n",
    "    _, train_lline,  valid_lline, test_lline = data.load_dataset_by_vessel(\n",
    "            '../datasets/kristina_longliner.measures{}.npz'.format(suffix), \n",
    "             even_split=even_split, seed=seed)\n",
    "    _, train_trawl,  valid_trawl, test_trawl = data.load_dataset_by_vessel(\n",
    "            '../datasets/kristina_trawl.measures{}.npz'.format(suffix), \n",
    "             even_split=even_split, seed=seed)\n",
    "    _, train_pseine, valid_pseine, test_pseine = data.load_dataset_by_vessel(\n",
    "            '../datasets/kristina_ps.measures{}.npz'.format(suffix), \n",
    "            even_split=even_split, seed=seed)\n",
    "\n",
    "    # Slow transits (used to train models to avoid classifying slow transits as fishing)\n",
    "    TRANSIT_WEIGHT = 10\n",
    "    x_tran, xtrain_tran, xcross_tran, xtest_tran = data.load_dataset_by_vessel(\n",
    "                        '../datasets/slow-transits.measures{}.npz'.format(suffix), even_split=False, seed=seed)\n",
    "    xtrain_tran = utils.clone_subset(xtrain_tran, test_lline.dtype)\n",
    "    xcross_tran = utils.clone_subset(xcross_tran, test_lline.dtype)\n",
    "    xtest_tran = utils.clone_subset(xtest_tran, test_lline.dtype)\n",
    "    train_tran = np.concatenate([xtrain_tran, xcross_tran] * TRANSIT_WEIGHT)\n",
    "\n",
    "    train = {'longliner': np.concatenate([train_lline, valid_lline, train_tran]), \n",
    "                'trawler': np.concatenate([train_trawl, valid_trawl, train_tran]),\n",
    "                'purse_seine': np.concatenate([train_pseine, valid_pseine, train_tran])}\n",
    "    \n",
    "    test = {'longliner': test_lline, \n",
    "            'trawler': test_trawl, \n",
    "            'purse_seine': test_pseine}\n",
    "    \n",
    "    return train, test"
   ]
  },
  {
   "cell_type": "code",
   "execution_count": 4,
   "metadata": {
    "collapsed": false
   },
   "outputs": [],
   "source": [
    "def _load_test_data(path, mmsi, even_split=True):\n",
    "    test_data, _, _, _ = data.load_dataset_by_vessel(path, even_split=even_split)\n",
    "    \n",
    "    mask = np.zeros(test_data.shape, dtype='bool')\n",
    "    for m in mmsi:\n",
    "        mask |= (test_data['mmsi'] == m)\n",
    "                \n",
    "    return test_data[mask]\n",
    "\n",
    "def load_test_data(suffix, mmsi_map, even_split=True):\n",
    "    # Data supplied by Kristina\n",
    "    test_lline = _load_test_data('../datasets/kristina_longliner.measures{}.npz'.format(suffix), \n",
    "                             mmsi_map['longliner'], even_split=even_split)\n",
    "    test_trawl = _load_test_data('../datasets/kristina_trawl.measures{}.npz'.format(suffix), \n",
    "                            mmsi_map['trawler'], even_split=even_split)\n",
    "    test_pseine = _load_test_data('../datasets/kristina_ps.measures{}.npz'.format(suffix), \n",
    "                            mmsi_map['purse_seine'], even_split=even_split)\n",
    "    \n",
    "    return {'longliner': test_lline, \n",
    "            'trawler': test_trawl, \n",
    "            'purse_seine': test_pseine}"
   ]
  },
  {
   "cell_type": "markdown",
   "metadata": {},
   "source": [
    "To create the features:\n",
    "\n",
    "```\n",
    "python scripts/add_all_features.py --keep 0.5\n",
    "python scripts/add_all_features.py --keep 0.2\n",
    "python scripts/add_all_features.py --keep 0.1\n",
    "python scripts/add_all_features.py --keep 0.05\n",
    "python scripts/add_all_features.py --keep 0.02\n",
    "python scripts/add_all_features.py --keep 0.01\n",
    "python scripts/add_all_features.py --keep 0.002\n",
    "python scripts/add_all_features.py --keep 0.005\n",
    "```"
   ]
  },
  {
   "cell_type": "code",
   "execution_count": 5,
   "metadata": {
    "collapsed": false
   },
   "outputs": [
    {
     "name": "stderr",
     "output_type": "stream",
     "text": [
      "../vessel_scoring/data.py:89: UserWarning: Warning, inufficient items to sample, returning 4430\n",
      "  warnings.warn(\"Warning, inufficient items to sample, returning {}\".format(len(x)))\n",
      "../vessel_scoring/data.py:89: UserWarning: Warning, inufficient items to sample, returning 2084\n",
      "  warnings.warn(\"Warning, inufficient items to sample, returning {}\".format(len(x)))\n",
      "../vessel_scoring/data.py:65: UserWarning: inufficient items to sample, returning fewer\n",
      "  warnings.warn(\"inufficient items to sample, returning fewer\")\n"
     ]
    },
    {
     "name": "stdout",
     "output_type": "stream",
     "text": [
      "Warning, insufficient items to sample, returning all\n",
      "Warning, insufficient items to sample, returning all\n",
      "Warning, insufficient items to sample, returning all\n",
      "Warning, insufficient items to sample, returning all\n",
      "Warning, insufficient items to sample, returning all"
     ]
    },
    {
     "name": "stderr",
     "output_type": "stream",
     "text": [
      "../vessel_scoring/data.py:89: UserWarning: Warning, inufficient items to sample, returning 3864\n",
      "  warnings.warn(\"Warning, inufficient items to sample, returning {}\".format(len(x)))\n",
      "../vessel_scoring/data.py:89: UserWarning: Warning, inufficient items to sample, returning 1190\n",
      "  warnings.warn(\"Warning, inufficient items to sample, returning {}\".format(len(x)))\n"
     ]
    },
    {
     "name": "stdout",
     "output_type": "stream",
     "text": [
      "\n",
      "Warning, insufficient items to sample, returning all\n",
      "Warning, insufficient items to sample, returning all"
     ]
    },
    {
     "name": "stderr",
     "output_type": "stream",
     "text": [
      "../vessel_scoring/data.py:89: UserWarning: Warning, inufficient items to sample, returning 1908\n",
      "  warnings.warn(\"Warning, inufficient items to sample, returning {}\".format(len(x)))\n",
      "../vessel_scoring/data.py:89: UserWarning: Warning, inufficient items to sample, returning 578\n",
      "  warnings.warn(\"Warning, inufficient items to sample, returning {}\".format(len(x)))\n"
     ]
    },
    {
     "name": "stdout",
     "output_type": "stream",
     "text": [
      "\n",
      "Warning, insufficient items to sample, returning all\n",
      "Warning, insufficient items to sample, returning all\n",
      "Warning, insufficient items to sample, returning all\n",
      "Warning, insufficient items to sample, returning all\n",
      "Warning, insufficient items to sample, returning all"
     ]
    },
    {
     "name": "stderr",
     "output_type": "stream",
     "text": [
      "../vessel_scoring/data.py:89: UserWarning: Warning, inufficient items to sample, returning 919\n",
      "  warnings.warn(\"Warning, inufficient items to sample, returning {}\".format(len(x)))\n",
      "../vessel_scoring/data.py:89: UserWarning: Warning, inufficient items to sample, returning 371\n",
      "  warnings.warn(\"Warning, inufficient items to sample, returning {}\".format(len(x)))\n"
     ]
    },
    {
     "name": "stdout",
     "output_type": "stream",
     "text": [
      "\n",
      "Warning, insufficient items to sample, returning all\n"
     ]
    },
    {
     "data": {
      "text/html": [
       "<h2>Purse Seine</h2>"
      ],
      "text/plain": [
       "<IPython.core.display.HTML object>"
      ]
     },
     "metadata": {},
     "output_type": "display_data"
    },
    {
     "data": {
      "text/markdown": [
       "|Keep Prob|Recall|Precision|F1-Score|ROC-AUC|\n",
       "|---------|------|---------|--------|-------|\n",
       "|1|0.86|0.25|0.39|0.93|\n",
       "|0.5|0.83|0.25|0.38|0.93|\n",
       "|0.2|0.79|0.24|0.36|0.92|\n",
       "|0.1|0.76|0.25|0.37|0.92|\n",
       "|0.05|0.70|0.26|0.38|0.92|\n",
       "|0.02|0.50|0.23|0.31|0.89|\n",
       "|0.01|0.36|0.20|0.26|0.90|\n",
       "|0.005|0.26|0.36|0.30|0.92|\n",
       "|0.002|0.14|0.25|0.18|0.96|"
      ],
      "text/plain": [
       "<IPython.core.display.Markdown object>"
      ]
     },
     "metadata": {},
     "output_type": "display_data"
    },
    {
     "data": {
      "text/html": [
       "<hr/>"
      ],
      "text/plain": [
       "<IPython.core.display.HTML object>"
      ]
     },
     "metadata": {},
     "output_type": "display_data"
    },
    {
     "data": {
      "text/html": [
       "<h2>Trawler</h2>"
      ],
      "text/plain": [
       "<IPython.core.display.HTML object>"
      ]
     },
     "metadata": {},
     "output_type": "display_data"
    },
    {
     "data": {
      "text/markdown": [
       "|Keep Prob|Recall|Precision|F1-Score|ROC-AUC|\n",
       "|---------|------|---------|--------|-------|\n",
       "|1|0.87|0.94|0.91|0.96|\n",
       "|0.5|0.87|0.94|0.91|0.96|\n",
       "|0.2|0.85|0.95|0.90|0.96|\n",
       "|0.1|0.81|0.95|0.88|0.95|\n",
       "|0.05|0.75|0.96|0.84|0.94|\n",
       "|0.02|0.60|0.97|0.74|0.91|\n",
       "|0.01|0.44|0.96|0.60|0.90|\n",
       "|0.005|0.29|0.96|0.44|0.89|\n",
       "|0.002|0.15|0.94|0.26|0.90|"
      ],
      "text/plain": [
       "<IPython.core.display.Markdown object>"
      ]
     },
     "metadata": {},
     "output_type": "display_data"
    },
    {
     "data": {
      "text/html": [
       "<hr/>"
      ],
      "text/plain": [
       "<IPython.core.display.HTML object>"
      ]
     },
     "metadata": {},
     "output_type": "display_data"
    },
    {
     "data": {
      "text/html": [
       "<h2>Longliner</h2>"
      ],
      "text/plain": [
       "<IPython.core.display.HTML object>"
      ]
     },
     "metadata": {},
     "output_type": "display_data"
    },
    {
     "data": {
      "text/markdown": [
       "|Keep Prob|Recall|Precision|F1-Score|ROC-AUC|\n",
       "|---------|------|---------|--------|-------|\n",
       "|1|0.90|0.96|0.93|0.95|\n",
       "|0.5|0.89|0.96|0.92|0.95|\n",
       "|0.2|0.87|0.96|0.92|0.95|\n",
       "|0.1|0.84|0.97|0.90|0.95|\n",
       "|0.05|0.78|0.97|0.87|0.94|\n",
       "|0.02|0.65|0.98|0.78|0.92|\n",
       "|0.01|0.51|0.98|0.67|0.88|\n",
       "|0.005|0.35|0.97|0.52|0.83|\n",
       "|0.002|0.17|0.98|0.29|0.85|"
      ],
      "text/plain": [
       "<IPython.core.display.Markdown object>"
      ]
     },
     "metadata": {},
     "output_type": "display_data"
    },
    {
     "data": {
      "text/html": [
       "<hr/>"
      ],
      "text/plain": [
       "<IPython.core.display.HTML object>"
      ]
     },
     "metadata": {},
     "output_type": "display_data"
    }
   ],
   "source": [
    "keep_probs = [1, 0.5, 0.2, 0.1, 0.05, 0.02, 0.01, 0.005, 0.002]\n",
    "\n",
    "train_data, test_data = load_data()\n",
    "\n",
    "mmsi_map = {x : set(test_data[x]['mmsi']) for x in ['purse_seine', 'trawler', 'longliner']}\n",
    "\n",
    "drop_test = {1: load_test_data('', mmsi_map)}\n",
    "for kp in keep_probs[1:]:\n",
    "    suffix = '-{}'.format(str(kp).replace('.', ''))\n",
    "    drop_test[kp] = load_test_data(suffix=suffix, mmsi_map=mmsi_map)\n",
    "\n",
    "predictions = {}\n",
    "\n",
    "for gear in ['purse_seine', 'trawler', 'longliner']:\n",
    "    mdl = make_model()\n",
    "    train_model_on_data(mdl, train_data[gear])\n",
    "    \n",
    "    display(HTML(\"<h2>{}</h2>\".format(gear.replace('_', ' ').title())))\n",
    "                \n",
    "    predictions[gear] = []\n",
    "    for kp in keep_probs:  \n",
    "\n",
    "        td = drop_test[kp][gear]\n",
    "            \n",
    "        raw = mdl.predict_proba(td)[:,1]\n",
    "        predictions[gear].append((kp, td, raw, (raw > 0.5), td['classification'] > 0.5))\n",
    "\n",
    "    lines = [\"|Keep Prob|Recall|Precision|F1-Score|ROC-AUC|\",\n",
    "             \"|---------|------|---------|--------|-------|\"]\n",
    "    for name, td, raw, pred, actual in predictions[gear]:\n",
    "        fpr, tpr, thresholds = metrics.roc_curve(actual, raw)\n",
    "        auc = metrics.auc(fpr, tpr)\n",
    "        lines.append(\"|{}|{:.2f}|{:.2f}|{:.2f}|{:.2f}|\".format(name, \n",
    "                                            metrics.recall_score(actual, pred),\n",
    "                                            metrics.precision_score(actual, pred), \n",
    "                                            metrics.f1_score(actual, pred),\n",
    "                                            auc))\n",
    "\n",
    "    display(Markdown('\\n'.join(lines)))    \n",
    "    display(HTML(\"<hr/>\"))"
   ]
  },
  {
   "cell_type": "markdown",
   "metadata": {},
   "source": [
    "The loss of recall of recall / precission as AIS is dropped out is surprisingly low. \n",
    "Precision / recall appears to be only modestly effected when dropping out 80% of the\n",
    "original AIS signal, with the exception of purse seiners, where 50% of the signal can\n",
    "be dropped with only modest reductions of recall / precision."
   ]
  },
  {
   "cell_type": "code",
   "execution_count": 6,
   "metadata": {
    "collapsed": false
   },
   "outputs": [
    {
     "data": {
      "text/html": [
       "<h2>Purse Seine</h2>"
      ],
      "text/plain": [
       "<IPython.core.display.HTML object>"
      ]
     },
     "metadata": {},
     "output_type": "display_data"
    },
    {
     "data": {
      "text/markdown": [
       "|Keep Prob|Predicted|Threshold|Nominal|\n",
       "|---------|---------|---------|-------|\n",
       "|1|4936.27|3135.38|968.70|\n",
       "|0.5|4501.11|2996.69|953.58|\n",
       "|0.2|3911.84|2714.84|997.58|\n",
       "|0.1|3239.30|2282.17|938.79|\n",
       "|0.05|2453.07|1768.60|839.23|\n",
       "|0.02|1353.46|999.20|539.24|\n",
       "|0.01|707.17|486.21|346.12|\n",
       "|0.005|268.99|108.63|185.18|\n",
       "|0.002|78.93|26.17|72.00|"
      ],
      "text/plain": [
       "<IPython.core.display.Markdown object>"
      ]
     },
     "metadata": {},
     "output_type": "display_data"
    },
    {
     "data": {
      "text/html": [
       "<hr/>"
      ],
      "text/plain": [
       "<IPython.core.display.HTML object>"
      ]
     },
     "metadata": {},
     "output_type": "display_data"
    },
    {
     "data": {
      "text/html": [
       "<h2>Trawler</h2>"
      ],
      "text/plain": [
       "<IPython.core.display.HTML object>"
      ]
     },
     "metadata": {},
     "output_type": "display_data"
    },
    {
     "data": {
      "text/markdown": [
       "|Keep Prob|Predicted|Threshold|Nominal|\n",
       "|---------|---------|---------|-------|\n",
       "|1|25093.97|13908.53|27398.44|\n",
       "|0.5|23402.24|13517.48|26717.16|\n",
       "|0.2|19409.84|11990.09|24661.39|\n",
       "|0.1|15464.12|10109.84|21833.49|\n",
       "|0.05|11472.54|7757.25|18308.48|\n",
       "|0.02|6214.77|4467.39|12825.79|\n",
       "|0.01|3195.04|2488.86|8508.26|\n",
       "|0.005|1334.28|1137.29|5209.30|\n",
       "|0.002|284.64|272.03|2228.94|"
      ],
      "text/plain": [
       "<IPython.core.display.Markdown object>"
      ]
     },
     "metadata": {},
     "output_type": "display_data"
    },
    {
     "data": {
      "text/html": [
       "<hr/>"
      ],
      "text/plain": [
       "<IPython.core.display.HTML object>"
      ]
     },
     "metadata": {},
     "output_type": "display_data"
    },
    {
     "data": {
      "text/html": [
       "<h2>Longliner</h2>"
      ],
      "text/plain": [
       "<IPython.core.display.HTML object>"
      ]
     },
     "metadata": {},
     "output_type": "display_data"
    },
    {
     "data": {
      "text/markdown": [
       "|Keep Prob|Predicted|Threshold|Nominal|\n",
       "|---------|---------|---------|-------|\n",
       "|1|11741.29|7183.67|14020.24|\n",
       "|0.5|11502.84|6937.22|13990.96|\n",
       "|0.2|10889.89|6443.35|13881.31|\n",
       "|0.1|9982.13|5939.54|13659.26|\n",
       "|0.05|8461.27|5011.57|13008.79|\n",
       "|0.02|5524.14|3540.54|10853.42|\n",
       "|0.01|3396.53|2510.21|8532.05|\n",
       "|0.005|1576.99|1279.50|5571.68|\n",
       "|0.002|365.97|338.97|2499.10|"
      ],
      "text/plain": [
       "<IPython.core.display.Markdown object>"
      ]
     },
     "metadata": {},
     "output_type": "display_data"
    },
    {
     "data": {
      "text/html": [
       "<hr/>"
      ],
      "text/plain": [
       "<IPython.core.display.HTML object>"
      ]
     },
     "metadata": {},
     "output_type": "display_data"
    }
   ],
   "source": [
    "def _fishing_hours_per_mmsi(data, preds):\n",
    "    # assumes single vessel (mmmsi)\n",
    "    indices = np.argsort(data['timestamp'])\n",
    "    data = data[indices]\n",
    "    preds = preds[indices]\n",
    "    thresholded = (preds > 0.5)\n",
    "    dt = (data['timestamp'][1:] - data['timestamp'][:-1]) / (60 * 60)\n",
    "    dt = np.minimum(dt, 12) # no gaps over 12 hours\n",
    "    avg_pred = 0.5 * (preds[1:] + preds[:-1])\n",
    "    avg_thresh = 0.5 * (thresholded[1:] + thresholded[:-1])\n",
    "    avg_nominal = 0.5 * (data['classification'][1:] + data['classification'][:-1])\n",
    "    return (avg_pred * dt).sum(), (avg_thresh * dt).sum(), (avg_nominal * dt).sum()\n",
    "\n",
    "def fishing_hours(data, preds):\n",
    "    mmsi = set(data['mmsi'])\n",
    "    pred_hours = thresh_hours = nominal_hours = 0\n",
    "    for m in mmsi:\n",
    "        mask = (data['mmsi'] == m)\n",
    "        p_hours, t_hours, n_hours = _fishing_hours_per_mmsi(data[mask], preds[mask])\n",
    "        pred_hours += p_hours\n",
    "        thresh_hours += t_hours\n",
    "        nominal_hours += n_hours\n",
    "    return pred_hours, thresh_hours, nominal_hours\n",
    "    \n",
    "    \n",
    "predicted_fishing_hours = {}\n",
    "threshold_fishing_hours = {}\n",
    "nominal_fishing_hours = {}\n",
    "    \n",
    "for gear in ['purse_seine', 'trawler', 'longliner']:\n",
    "    \n",
    "    predicted_fishing_hours[gear] = []\n",
    "    threshold_fishing_hours[gear] = []\n",
    "    nominal_fishing_hours[gear] = []\n",
    "    \n",
    "    display(HTML(\"<h2>{}</h2>\".format(gear.replace('_', ' ').title())))\n",
    "\n",
    "    lines = [\"|Keep Prob|Predicted|Threshold|Nominal|\",\n",
    "             \"|---------|---------|---------|-------|\"]\n",
    "    \n",
    "    for name, td, raw, pred, actual in predictions[gear]:\n",
    "        predicted, threshold, nominal = fishing_hours(td, raw)\n",
    "        predicted_fishing_hours[gear].append(predicted)\n",
    "        threshold_fishing_hours[gear].append(threshold)        \n",
    "        nominal_fishing_hours[gear].append(nominal)\n",
    "        lines.append(\"|{}|{:.2f}|{:.2f}|{:.2f}|\".format(name, \n",
    "                                                 predicted,\n",
    "                                                 threshold,\n",
    "                                                 nominal))\n",
    "    display(Markdown('\\n'.join(lines)))    \n",
    "    display(HTML(\"<hr/>\"))\n",
    "    \n",
    "    "
   ]
  },
  {
   "cell_type": "markdown",
   "metadata": {},
   "source": [
    "Compare the fishing hours calculated based on predictions with those based on hand \n",
    "labelled data. Fishing hours based on prediction are calculated in two ways. \n",
    "One by summing up the fishing scores and the other by thresholding the fishing \n",
    "scores at 0.5. In both cases, the scores are weighted by the gaps between points,\n",
    "capped at 12 hours. See functions above for details."
   ]
  },
  {
   "cell_type": "code",
   "execution_count": 7,
   "metadata": {
    "collapsed": false
   },
   "outputs": [
    {
     "data": {
      "text/html": [
       "<h2>Purse Seine</h2>"
      ],
      "text/plain": [
       "<IPython.core.display.HTML object>"
      ]
     },
     "metadata": {},
     "output_type": "display_data"
    },
    {
     "data": {
      "image/png": "[encoded data removed]",
      "text/plain": [
       "<matplotlib.figure.Figure at 0x1089a2e10>"
      ]
     },
     "metadata": {},
     "output_type": "display_data"
    },
    {
     "data": {
      "text/html": [
       "<hr/>"
      ],
      "text/plain": [
       "<IPython.core.display.HTML object>"
      ]
     },
     "metadata": {},
     "output_type": "display_data"
    },
    {
     "data": {
      "text/html": [
       "<h2>Trawler</h2>"
      ],
      "text/plain": [
       "<IPython.core.display.HTML object>"
      ]
     },
     "metadata": {},
     "output_type": "display_data"
    },
    {
     "data": {
      "image/png": "[encoded data removed]",
      "text/plain": [
       "<matplotlib.figure.Figure at 0x10a159fd0>"
      ]
     },
     "metadata": {},
     "output_type": "display_data"
    },
    {
     "data": {
      "text/html": [
       "<hr/>"
      ],
      "text/plain": [
       "<IPython.core.display.HTML object>"
      ]
     },
     "metadata": {},
     "output_type": "display_data"
    },
    {
     "data": {
      "text/html": [
       "<h2>Longliner</h2>"
      ],
      "text/plain": [
       "<IPython.core.display.HTML object>"
      ]
     },
     "metadata": {},
     "output_type": "display_data"
    },
    {
     "data": {
      "image/png": "[encoded data removed]",
      "text/plain": [
       "<matplotlib.figure.Figure at 0x10b7b2290>"
      ]
     },
     "metadata": {},
     "output_type": "display_data"
    },
    {
     "data": {
      "text/html": [
       "<hr/>"
      ],
      "text/plain": [
       "<IPython.core.display.HTML object>"
      ]
     },
     "metadata": {},
     "output_type": "display_data"
    }
   ],
   "source": [
    "for gear in ['purse_seine', 'trawler', 'longliner']:\n",
    "    \n",
    "    \n",
    "    display(HTML(\"<h2>{}</h2>\".format(gear.replace('_', ' ').title())))\n",
    "\n",
    "    plt.plot(keep_probs, predicted_fishing_hours[gear], label=\"predicted\")   \n",
    "    plt.plot(keep_probs, threshold_fishing_hours[gear], label=\"threshold\")   \n",
    "    plt.plot(keep_probs, nominal_fishing_hours[gear], label=\"hand labelled\")\n",
    "    plt.xscale('log')\n",
    "    plt.xlabel('point fraction')\n",
    "    plt.ylabel('fishing hours')\n",
    "    plt.legend(loc=4)\n",
    "    plt.show()\n",
    "    display(HTML(\"<hr/>\"))"
   ]
  },
  {
   "cell_type": "code",
   "execution_count": 8,
   "metadata": {
    "collapsed": false
   },
   "outputs": [
    {
     "data": {
      "text/html": [
       "<h2>Purse Seine</h2>"
      ],
      "text/plain": [
       "<IPython.core.display.HTML object>"
      ]
     },
     "metadata": {},
     "output_type": "display_data"
    },
    {
     "name": "stdout",
     "output_type": "stream",
     "text": [
      "correlation: 0.0757845985028\n"
     ]
    },
    {
     "data": {
      "image/png": "[encoded data removed]",
      "text/plain": [
       "<matplotlib.figure.Figure at 0x10a1b9690>"
      ]
     },
     "metadata": {},
     "output_type": "display_data"
    },
    {
     "data": {
      "text/html": [
       "<h2>Trawler</h2>"
      ],
      "text/plain": [
       "<IPython.core.display.HTML object>"
      ]
     },
     "metadata": {},
     "output_type": "display_data"
    },
    {
     "name": "stdout",
     "output_type": "stream",
     "text": [
      "correlation: -0.128242638304\n"
     ]
    },
    {
     "data": {
      "image/png": "[encoded data removed]",
      "text/plain": [
       "<matplotlib.figure.Figure at 0x12d0eee90>"
      ]
     },
     "metadata": {},
     "output_type": "display_data"
    },
    {
     "data": {
      "text/html": [
       "<h2>Longliner</h2>"
      ],
      "text/plain": [
       "<IPython.core.display.HTML object>"
      ]
     },
     "metadata": {},
     "output_type": "display_data"
    },
    {
     "name": "stdout",
     "output_type": "stream",
     "text": [
      "correlation: -0.297488576702\n"
     ]
    },
    {
     "data": {
      "image/png": "[encoded data removed]",
      "text/plain": [
       "<matplotlib.figure.Figure at 0x11f3621d0>"
      ]
     },
     "metadata": {},
     "output_type": "display_data"
    }
   ],
   "source": [
    "for gear in ['purse_seine', 'trawler', 'longliner']:\n",
    "\n",
    "    display(HTML(\"<h2>{}</h2>\".format(gear.replace('_', ' ').title())))\n",
    "\n",
    "    err_chunks = []\n",
    "    count_chunks = []\n",
    "    for name, td, raw, pred, actual in predictions[gear]:\n",
    "        err_chunks.append(raw - td['classification'])\n",
    "        count_chunks.append(td['measure_count_10800'])\n",
    "    errs = np.concatenate(err_chunks)\n",
    "    counts = np.concatenate(count_chunks)\n",
    "\n",
    "    print(\"correlation:\", np.corrcoef(np.log(counts), abs(errs))[1,0])\n",
    "    \n",
    "    bin_starts = []\n",
    "    bins = []\n",
    "    for i in range(20):\n",
    "        start = i * 5\n",
    "        bin_starts.append(start)\n",
    "        stop = (i + 1) * 5\n",
    "        mask = (counts >= start) & (counts < stop)\n",
    "        bins.append((errs[mask]**2).mean())\n",
    "        if mask.sum() < 20:\n",
    "            break\n",
    "    mask = (counts >= stop)\n",
    "    bins.append((errs[mask]**2).mean())\n",
    "    bin_starts.append(stop)\n",
    "\n",
    "\n",
    "    plt.plot(bin_starts, bins)\n",
    "    plt.show()"
   ]
  },
  {
   "cell_type": "markdown",
   "metadata": {},
   "source": [
    "# Without even split\n",
    "\n",
    "Even splitting during training seems to be causing issues with purse seiners. It should\n",
    "not make much of a difference for the other gear types \n",
    "since the fishing – nonfishing split is fairly even in\n",
    "those cases.\n",
    "\n",
    "**Note**: this is not what we are currently using; we are currently training models using\n",
    "an even split."
   ]
  },
  {
   "cell_type": "code",
   "execution_count": 9,
   "metadata": {
    "collapsed": false
   },
   "outputs": [
    {
     "name": "stderr",
     "output_type": "stream",
     "text": [
      "../vessel_scoring/data.py:89: UserWarning: Warning, inufficient items to sample, returning 8105\n",
      "  warnings.warn(\"Warning, inufficient items to sample, returning {}\".format(len(x)))\n",
      "../vessel_scoring/data.py:89: UserWarning: Warning, inufficient items to sample, returning 5354\n",
      "  warnings.warn(\"Warning, inufficient items to sample, returning {}\".format(len(x)))\n"
     ]
    },
    {
     "name": "stdout",
     "output_type": "stream",
     "text": [
      "Warning, insufficient items to sample, returning all\n",
      "Warning, insufficient items to sample, returning all\n",
      "Warning, insufficient items to sample, returning all"
     ]
    },
    {
     "name": "stderr",
     "output_type": "stream",
     "text": [
      "../vessel_scoring/data.py:89: UserWarning: Warning, inufficient items to sample, returning 3239\n",
      "  warnings.warn(\"Warning, inufficient items to sample, returning {}\".format(len(x)))\n",
      "../vessel_scoring/data.py:89: UserWarning: Warning, inufficient items to sample, returning 7234\n",
      "  warnings.warn(\"Warning, inufficient items to sample, returning {}\".format(len(x)))\n"
     ]
    },
    {
     "name": "stdout",
     "output_type": "stream",
     "text": [
      "\n",
      "Warning, insufficient items to sample, returning all\n",
      "Warning, insufficient items to sample, returning all"
     ]
    },
    {
     "name": "stderr",
     "output_type": "stream",
     "text": [
      "../vessel_scoring/data.py:89: UserWarning: Warning, inufficient items to sample, returning 2143\n",
      "  warnings.warn(\"Warning, inufficient items to sample, returning {}\".format(len(x)))\n",
      "../vessel_scoring/data.py:89: UserWarning: Warning, inufficient items to sample, returning 1631\n",
      "  warnings.warn(\"Warning, inufficient items to sample, returning {}\".format(len(x)))\n"
     ]
    },
    {
     "name": "stdout",
     "output_type": "stream",
     "text": [
      "\n",
      "Warning, insufficient items to sample, returning all\n",
      "Warning, insufficient items to sample, returning all"
     ]
    },
    {
     "name": "stderr",
     "output_type": "stream",
     "text": [
      "../vessel_scoring/data.py:89: UserWarning: Warning, inufficient items to sample, returning 3626\n",
      "  warnings.warn(\"Warning, inufficient items to sample, returning {}\".format(len(x)))\n",
      "../vessel_scoring/data.py:89: UserWarning: Warning, inufficient items to sample, returning 1063\n",
      "  warnings.warn(\"Warning, inufficient items to sample, returning {}\".format(len(x)))\n"
     ]
    },
    {
     "name": "stdout",
     "output_type": "stream",
     "text": [
      "\n",
      "Warning, insufficient items to sample, returning all\n",
      "Warning, insufficient items to sample, returning all"
     ]
    },
    {
     "name": "stderr",
     "output_type": "stream",
     "text": [
      "../vessel_scoring/data.py:89: UserWarning: Warning, inufficient items to sample, returning 843\n",
      "  warnings.warn(\"Warning, inufficient items to sample, returning {}\".format(len(x)))\n",
      "../vessel_scoring/data.py:89: UserWarning: Warning, inufficient items to sample, returning 1838\n",
      "  warnings.warn(\"Warning, inufficient items to sample, returning {}\".format(len(x)))\n",
      "../vessel_scoring/data.py:89: UserWarning: Warning, inufficient items to sample, returning 527\n",
      "  warnings.warn(\"Warning, inufficient items to sample, returning {}\".format(len(x)))\n"
     ]
    },
    {
     "name": "stdout",
     "output_type": "stream",
     "text": [
      "\n",
      "Warning, insufficient items to sample, returning all\n",
      "Warning, insufficient items to sample, returning all\n",
      "Warning, insufficient items to sample, returning all\n",
      "Warning, insufficient items to sample, returning all\n"
     ]
    },
    {
     "name": "stderr",
     "output_type": "stream",
     "text": [
      "../vessel_scoring/data.py:89: UserWarning: Warning, inufficient items to sample, returning 348\n",
      "  warnings.warn(\"Warning, inufficient items to sample, returning {}\".format(len(x)))\n",
      "../vessel_scoring/data.py:89: UserWarning: Warning, inufficient items to sample, returning 715\n",
      "  warnings.warn(\"Warning, inufficient items to sample, returning {}\".format(len(x)))\n",
      "../vessel_scoring/data.py:89: UserWarning: Warning, inufficient items to sample, returning 201\n",
      "  warnings.warn(\"Warning, inufficient items to sample, returning {}\".format(len(x)))\n"
     ]
    },
    {
     "data": {
      "text/html": [
       "<h2>Purse Seine</h2>"
      ],
      "text/plain": [
       "<IPython.core.display.HTML object>"
      ]
     },
     "metadata": {},
     "output_type": "display_data"
    },
    {
     "name": "stderr",
     "output_type": "stream",
     "text": [
      "//anaconda/envs/python2/lib/python2.7/site-packages/sklearn/metrics/classification.py:1074: UndefinedMetricWarning: Precision is ill-defined and being set to 0.0 due to no predicted samples.\n",
      "  'precision', 'predicted', average, warn_for)\n",
      "//anaconda/envs/python2/lib/python2.7/site-packages/sklearn/metrics/classification.py:1074: UndefinedMetricWarning: F-score is ill-defined and being set to 0.0 due to no predicted samples.\n",
      "  'precision', 'predicted', average, warn_for)\n"
     ]
    },
    {
     "data": {
      "text/markdown": [
       "|Keep Prob|Recall|Precision|F1-Score|ROC-AUC|\n",
       "|---------|------|---------|--------|-------|\n",
       "|1|0.41|0.38|0.40|0.92|\n",
       "|0.5|0.39|0.37|0.38|0.92|\n",
       "|0.2|0.33|0.35|0.34|0.91|\n",
       "|0.1|0.27|0.32|0.29|0.91|\n",
       "|0.05|0.23|0.32|0.27|0.91|\n",
       "|0.02|0.09|0.29|0.14|0.88|\n",
       "|0.01|0.05|0.29|0.09|0.88|\n",
       "|0.005|0.05|0.50|0.10|0.91|\n",
       "|0.002|0.00|0.00|0.00|0.95|"
      ],
      "text/plain": [
       "<IPython.core.display.Markdown object>"
      ]
     },
     "metadata": {},
     "output_type": "display_data"
    },
    {
     "data": {
      "text/html": [
       "<hr/>"
      ],
      "text/plain": [
       "<IPython.core.display.HTML object>"
      ]
     },
     "metadata": {},
     "output_type": "display_data"
    },
    {
     "data": {
      "text/html": [
       "<h2>Trawler</h2>"
      ],
      "text/plain": [
       "<IPython.core.display.HTML object>"
      ]
     },
     "metadata": {},
     "output_type": "display_data"
    },
    {
     "data": {
      "text/markdown": [
       "|Keep Prob|Recall|Precision|F1-Score|ROC-AUC|\n",
       "|---------|------|---------|--------|-------|\n",
       "|1|0.89|0.93|0.91|0.96|\n",
       "|0.5|0.88|0.94|0.91|0.96|\n",
       "|0.2|0.86|0.94|0.90|0.96|\n",
       "|0.1|0.83|0.94|0.88|0.95|\n",
       "|0.05|0.77|0.95|0.85|0.94|\n",
       "|0.02|0.62|0.96|0.75|0.92|\n",
       "|0.01|0.45|0.95|0.61|0.90|\n",
       "|0.005|0.30|0.95|0.46|0.89|\n",
       "|0.002|0.16|0.91|0.27|0.91|"
      ],
      "text/plain": [
       "<IPython.core.display.Markdown object>"
      ]
     },
     "metadata": {},
     "output_type": "display_data"
    },
    {
     "data": {
      "text/html": [
       "<hr/>"
      ],
      "text/plain": [
       "<IPython.core.display.HTML object>"
      ]
     },
     "metadata": {},
     "output_type": "display_data"
    },
    {
     "data": {
      "text/html": [
       "<h2>Longliner</h2>"
      ],
      "text/plain": [
       "<IPython.core.display.HTML object>"
      ]
     },
     "metadata": {},
     "output_type": "display_data"
    },
    {
     "data": {
      "text/markdown": [
       "|Keep Prob|Recall|Precision|F1-Score|ROC-AUC|\n",
       "|---------|------|---------|--------|-------|\n",
       "|1|0.97|0.91|0.94|0.90|\n",
       "|0.5|0.97|0.91|0.94|0.90|\n",
       "|0.2|0.96|0.92|0.94|0.90|\n",
       "|0.1|0.94|0.92|0.93|0.90|\n",
       "|0.05|0.87|0.94|0.90|0.90|\n",
       "|0.02|0.72|0.96|0.82|0.88|\n",
       "|0.01|0.56|0.97|0.71|0.87|\n",
       "|0.005|0.38|0.98|0.54|0.85|\n",
       "|0.002|0.21|0.98|0.34|0.85|"
      ],
      "text/plain": [
       "<IPython.core.display.Markdown object>"
      ]
     },
     "metadata": {},
     "output_type": "display_data"
    },
    {
     "data": {
      "text/html": [
       "<hr/>"
      ],
      "text/plain": [
       "<IPython.core.display.HTML object>"
      ]
     },
     "metadata": {},
     "output_type": "display_data"
    }
   ],
   "source": [
    "keep_probs = [1, 0.5, 0.2, 0.1, 0.05, 0.02, 0.01, 0.005, 0.002]\n",
    "\n",
    "train_data, test_data = load_data(even_split=False)\n",
    "\n",
    "mmsi_map = {x : set(test_data[x]['mmsi']) for x in ['purse_seine', 'trawler', 'longliner']}\n",
    "\n",
    "drop_test = {1: load_test_data('', mmsi_map)}\n",
    "for kp in keep_probs[1:]:\n",
    "    suffix = '-{}'.format(str(kp).replace('.', ''))\n",
    "    drop_test[kp] = load_test_data(suffix=suffix, mmsi_map=mmsi_map, even_split=False)\n",
    "\n",
    "predictions = {}\n",
    "\n",
    "for gear in ['purse_seine', 'trawler', 'longliner']:\n",
    "    mdl = make_model()\n",
    "    train_model_on_data(mdl, train_data[gear])\n",
    "    \n",
    "    display(HTML(\"<h2>{}</h2>\".format(gear.replace('_', ' ').title())))\n",
    "                \n",
    "    predictions[gear] = []\n",
    "    for kp in keep_probs:  \n",
    "\n",
    "        td = drop_test[kp][gear]\n",
    "            \n",
    "        raw = mdl.predict_proba(td)[:,1]\n",
    "        predictions[gear].append((kp, td, raw, (raw > 0.5), td['classification'] > 0.5))\n",
    "\n",
    "    lines = [\"|Keep Prob|Recall|Precision|F1-Score|ROC-AUC|\",\n",
    "             \"|---------|------|---------|--------|-------|\"]\n",
    "    for name, td, raw, pred, actual in predictions[gear]:\n",
    "        fpr, tpr, thresholds = metrics.roc_curve(actual, raw)\n",
    "        auc = metrics.auc(fpr, tpr)\n",
    "        lines.append(\"|{}|{:.2f}|{:.2f}|{:.2f}|{:.2f}|\".format(name, \n",
    "                                            metrics.recall_score(actual, pred),\n",
    "                                            metrics.precision_score(actual, pred), \n",
    "                                            metrics.f1_score(actual, pred),\n",
    "                                            auc))\n",
    "\n",
    "    display(Markdown('\\n'.join(lines)))    \n",
    "    display(HTML(\"<hr/>\"))"
   ]
  },
  {
   "cell_type": "markdown",
   "metadata": {},
   "source": [
    "For purse seiners this trades recall for precision (more precision, less recall) and the F1 score statys similar."
   ]
  },
  {
   "cell_type": "code",
   "execution_count": 10,
   "metadata": {
    "collapsed": false
   },
   "outputs": [
    {
     "data": {
      "text/html": [
       "<h2>Purse Seine</h2>"
      ],
      "text/plain": [
       "<IPython.core.display.HTML object>"
      ]
     },
     "metadata": {},
     "output_type": "display_data"
    },
    {
     "data": {
      "text/markdown": [
       "|Keep Prob|Predicted|Threshold|Nominal|\n",
       "|---------|---------|---------|-------|\n",
       "|1|1920.55|1005.05|968.70|\n",
       "|0.5|1755.90|928.48|953.58|\n",
       "|0.2|1528.53|797.40|997.58|\n",
       "|0.1|1254.01|592.42|938.79|\n",
       "|0.05|931.18|454.86|839.23|\n",
       "|0.02|461.94|148.05|539.24|\n",
       "|0.01|203.20|45.11|346.12|\n",
       "|0.005|72.93|11.50|185.18|\n",
       "|0.002|12.51|0.00|72.00|"
      ],
      "text/plain": [
       "<IPython.core.display.Markdown object>"
      ]
     },
     "metadata": {},
     "output_type": "display_data"
    },
    {
     "data": {
      "text/html": [
       "<hr/>"
      ],
      "text/plain": [
       "<IPython.core.display.HTML object>"
      ]
     },
     "metadata": {},
     "output_type": "display_data"
    },
    {
     "data": {
      "text/html": [
       "<h2>Trawler</h2>"
      ],
      "text/plain": [
       "<IPython.core.display.HTML object>"
      ]
     },
     "metadata": {},
     "output_type": "display_data"
    },
    {
     "data": {
      "text/markdown": [
       "|Keep Prob|Predicted|Threshold|Nominal|\n",
       "|---------|---------|---------|-------|\n",
       "|1|25999.90|14418.90|27398.44|\n",
       "|0.5|24300.16|14018.59|26717.16|\n",
       "|0.2|20185.57|12361.95|24661.39|\n",
       "|0.1|16116.71|10403.75|21833.49|\n",
       "|0.05|11951.30|8030.41|18308.48|\n",
       "|0.02|6508.45|4661.89|12825.79|\n",
       "|0.01|3366.49|2651.82|8508.26|\n",
       "|0.005|1403.07|1228.10|5209.30|\n",
       "|0.002|300.37|291.52|2228.94|"
      ],
      "text/plain": [
       "<IPython.core.display.Markdown object>"
      ]
     },
     "metadata": {},
     "output_type": "display_data"
    },
    {
     "data": {
      "text/html": [
       "<hr/>"
      ],
      "text/plain": [
       "<IPython.core.display.HTML object>"
      ]
     },
     "metadata": {},
     "output_type": "display_data"
    },
    {
     "data": {
      "text/html": [
       "<h2>Longliner</h2>"
      ],
      "text/plain": [
       "<IPython.core.display.HTML object>"
      ]
     },
     "metadata": {},
     "output_type": "display_data"
    },
    {
     "data": {
      "text/markdown": [
       "|Keep Prob|Predicted|Threshold|Nominal|\n",
       "|---------|---------|---------|-------|\n",
       "|1|18109.58|9937.33|14796.21|\n",
       "|0.5|16826.21|9477.39|14597.35|\n",
       "|0.2|14595.52|8541.46|14164.29|\n",
       "|0.1|12662.24|7794.34|13639.39|\n",
       "|0.05|9700.61|6240.25|12486.23|\n",
       "|0.02|5889.35|3977.66|10046.38|\n",
       "|0.01|3401.39|2395.16|7738.42|\n",
       "|0.005|1561.96|1158.56|5069.78|\n",
       "|0.002|441.99|374.28|2462.58|"
      ],
      "text/plain": [
       "<IPython.core.display.Markdown object>"
      ]
     },
     "metadata": {},
     "output_type": "display_data"
    },
    {
     "data": {
      "text/html": [
       "<hr/>"
      ],
      "text/plain": [
       "<IPython.core.display.HTML object>"
      ]
     },
     "metadata": {},
     "output_type": "display_data"
    }
   ],
   "source": [
    "predicted_fishing_hours = {}\n",
    "threshold_fishing_hours = {}\n",
    "nominal_fishing_hours = {}\n",
    "    \n",
    "for gear in ['purse_seine', 'trawler', 'longliner']:\n",
    "    \n",
    "    predicted_fishing_hours[gear] = []\n",
    "    threshold_fishing_hours[gear] = []\n",
    "    nominal_fishing_hours[gear] = []\n",
    "    \n",
    "    display(HTML(\"<h2>{}</h2>\".format(gear.replace('_', ' ').title())))\n",
    "\n",
    "    lines = [\"|Keep Prob|Predicted|Threshold|Nominal|\",\n",
    "             \"|---------|---------|---------|-------|\"]\n",
    "    \n",
    "    for name, td, raw, pred, actual in predictions[gear]:\n",
    "        predicted, threshold, nominal = fishing_hours(td, raw)\n",
    "        predicted_fishing_hours[gear].append(predicted)\n",
    "        threshold_fishing_hours[gear].append(threshold)        \n",
    "        nominal_fishing_hours[gear].append(nominal)\n",
    "        lines.append(\"|{}|{:.2f}|{:.2f}|{:.2f}|\".format(name, \n",
    "                                                 predicted,\n",
    "                                                 threshold,\n",
    "                                                 nominal))\n",
    "    display(Markdown('\\n'.join(lines)))    \n",
    "    display(HTML(\"<hr/>\"))\n",
    "    \n",
    "    "
   ]
  },
  {
   "cell_type": "code",
   "execution_count": 11,
   "metadata": {
    "collapsed": false
   },
   "outputs": [
    {
     "data": {
      "text/html": [
       "<h2>Purse Seine</h2>"
      ],
      "text/plain": [
       "<IPython.core.display.HTML object>"
      ]
     },
     "metadata": {},
     "output_type": "display_data"
    },
    {
     "data": {
      "image/png": "[encoded data removed]",
      "text/plain": [
       "<matplotlib.figure.Figure at 0x106155650>"
      ]
     },
     "metadata": {},
     "output_type": "display_data"
    },
    {
     "data": {
      "text/html": [
       "<hr/>"
      ],
      "text/plain": [
       "<IPython.core.display.HTML object>"
      ]
     },
     "metadata": {},
     "output_type": "display_data"
    },
    {
     "data": {
      "text/html": [
       "<h2>Trawler</h2>"
      ],
      "text/plain": [
       "<IPython.core.display.HTML object>"
      ]
     },
     "metadata": {},
     "output_type": "display_data"
    },
    {
     "data": {
      "image/png": "[encoded data removed]",
      "text/plain": [
       "<matplotlib.figure.Figure at 0x11f61a090>"
      ]
     },
     "metadata": {},
     "output_type": "display_data"
    },
    {
     "data": {
      "text/html": [
       "<hr/>"
      ],
      "text/plain": [
       "<IPython.core.display.HTML object>"
      ]
     },
     "metadata": {},
     "output_type": "display_data"
    },
    {
     "data": {
      "text/html": [
       "<h2>Longliner</h2>"
      ],
      "text/plain": [
       "<IPython.core.display.HTML object>"
      ]
     },
     "metadata": {},
     "output_type": "display_data"
    },
    {
     "data": {
      "image/png": "[encoded data removed]",
      "text/plain": [
       "<matplotlib.figure.Figure at 0x12d060910>"
      ]
     },
     "metadata": {},
     "output_type": "display_data"
    },
    {
     "data": {
      "text/html": [
       "<hr/>"
      ],
      "text/plain": [
       "<IPython.core.display.HTML object>"
      ]
     },
     "metadata": {},
     "output_type": "display_data"
    }
   ],
   "source": [
    "for gear in ['purse_seine', 'trawler', 'longliner']:\n",
    "    \n",
    "    \n",
    "    display(HTML(\"<h2>{}</h2>\".format(gear.replace('_', ' ').title())))\n",
    "\n",
    "    plt.plot(keep_probs, predicted_fishing_hours[gear], label=\"predicted\")   \n",
    "    plt.plot(keep_probs, threshold_fishing_hours[gear], label=\"threshold\")   \n",
    "    plt.plot(keep_probs, nominal_fishing_hours[gear], label=\"hand labelled\")\n",
    "    plt.xscale('log')\n",
    "    plt.xlabel('point fraction')\n",
    "    plt.ylabel('fishing hours')\n",
    "    plt.legend(loc=4)\n",
    "    plt.show()\n",
    "    display(HTML(\"<hr/>\"))"
   ]
  },
  {
   "cell_type": "markdown",
   "metadata": {},
   "source": [
    "For total fishing hours, this seems to be overall more accurate than the even split training."
   ]
  }
 ],
 "metadata": {
  "kernelspec": {
   "display_name": "Python 2",
   "language": "python",
   "name": "python2"
  },
  "language_info": {
   "codemirror_mode": {
    "name": "ipython",
    "version": 2
   },
   "file_extension": ".py",
   "mimetype": "text/x-python",
   "name": "python",
   "nbconvert_exporter": "python",
   "pygments_lexer": "ipython2",
   "version": "2.7.11"
  }
 },
 "nbformat": 4,
 "nbformat_minor": 0
}
