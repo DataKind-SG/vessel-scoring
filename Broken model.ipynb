{
 "cells": [
  {
   "cell_type": "code",
   "execution_count": 1,
   "metadata": {
    "collapsed": false
   },
   "outputs": [
    {
     "name": "stdout",
     "output_type": "stream",
     "text": [
      "Populating the interactive namespace from numpy and matplotlib\n",
      "Warning, insufficient items to sample, returning all\n",
      "Warning, inufficient items to sample, returning 3168\n"
     ]
    }
   ],
   "source": [
    "%pylab inline\n",
    "import vessel_scoring.models\n",
    "import vessel_scoring.add_measures\n",
    "from numpy.lib.recfunctions import *\n",
    "\n",
    "model = vessel_scoring.models.train_models()[0][1]\n"
   ]
  },
  {
   "cell_type": "code",
   "execution_count": 4,
   "metadata": {
    "collapsed": false
   },
   "outputs": [
    {
     "name": "stderr",
     "output_type": "stream",
     "text": [
      "addmeasures: 0\n",
      "addmeasures: 1000\n",
      "addmeasures: 2000\n",
      "addmeasures: 3000\n",
      "addmeasures: 4000\n",
      "addmeasures: 5000\n",
      "addmeasures: 6000\n",
      "addmeasures: 7000\n",
      "addmeasures: 8000\n",
      "addmeasures: 9000\n",
      "addmeasures: 0\n",
      "addmeasures: 1000\n",
      "addmeasures: 2000\n",
      "addmeasures: 3000\n",
      "addmeasures: 4000\n",
      "addmeasures: 5000\n",
      "addmeasures: 6000\n",
      "addmeasures: 7000\n",
      "addmeasures: 8000\n",
      "addmeasures: 9000\n",
      "addmeasures: 0\n",
      "addmeasures: 1000\n",
      "addmeasures: 2000\n",
      "addmeasures: 3000\n",
      "addmeasures: 4000\n",
      "addmeasures: 5000\n",
      "addmeasures: 6000\n",
      "addmeasures: 7000\n",
      "addmeasures: 8000\n",
      "addmeasures: 9000\n",
      "addmeasures: 0\n",
      "addmeasures: 1000\n",
      "addmeasures: 2000\n",
      "addmeasures: 3000\n",
      "addmeasures: 4000\n",
      "addmeasures: 5000\n",
      "addmeasures: 6000\n",
      "addmeasures: 7000\n",
      "addmeasures: 8000\n",
      "addmeasures: 9000\n",
      "addmeasures: 0\n",
      "addmeasures: 1000\n",
      "addmeasures: 2000\n",
      "addmeasures: 3000\n",
      "addmeasures: 4000\n",
      "addmeasures: 5000\n",
      "addmeasures: 6000\n",
      "addmeasures: 7000\n",
      "addmeasures: 8000\n",
      "addmeasures: 9000\n",
      "addmeasures: 0\n",
      "addmeasures: 1000\n",
      "addmeasures: 2000\n",
      "addmeasures: 3000\n",
      "addmeasures: 4000\n",
      "addmeasures: 5000\n",
      "addmeasures: 6000\n",
      "addmeasures: 7000\n",
      "addmeasures: 8000\n",
      "addmeasures: 9000\n"
     ]
    },
    {
     "data": {
      "text/plain": [
       "(array([  2.00000000e+00,   0.00000000e+00,   2.00000000e+00,\n",
       "          2.00000000e+00,   1.00000000e+00,   0.00000000e+00,\n",
       "          5.00000000e+00,   1.60000000e+01,   1.05800000e+03,\n",
       "          7.95200000e+03]),\n",
       " array([ 0.04891543,  0.14402389,  0.23913235,  0.3342408 ,  0.42934926,\n",
       "         0.52445772,  0.61956617,  0.71467463,  0.80978309,  0.90489154,  1.        ]),\n",
       " <a list of 10 Patch objects>)"
      ]
     },
     "execution_count": 4,
     "metadata": {},
     "output_type": "execute_result"
    },
    {
     "data": {
      "image/png": "[encoded data removed]",
      "text/plain": [
       "<matplotlib.figure.Figure at 0x7fadadfa8f90>"
      ]
     },
     "metadata": {},
     "output_type": "display_data"
    }
   ],
   "source": [
    "x = numpy.load(\"datasets/slow-transits.npz\")['x']\n",
    "x = x[isnan(x['speed']) == False]\n",
    "x = x[isnan(x['course']) == False]\n",
    "#x['mmsi'] = 0\n",
    "# x = x[lexsort((x['timestamp'], x['mmsi']))]\n",
    "x = vessel_scoring.add_measures.add_measures(x)\n",
    "for name in x.dtype.names:\n",
    "    if 'stddev' in name and \"_log\" not in name:\n",
    "        x = append_fields(x, name + \"_log\", [], dtypes='<f8', fill_value=0.0)\n",
    "        x[name + \"_log\"] = log10(x[name] + 0.000001)\n",
    "score = model.predict_proba(x)[:,1]\n",
    "plt.hist(score)"
   ]
  },
  {
   "cell_type": "code",
   "execution_count": null,
   "metadata": {
    "collapsed": true
   },
   "outputs": [],
   "source": []
  }
 ],
 "metadata": {
  "kernelspec": {
   "display_name": "Python 2",
   "language": "python",
   "name": "python2"
  },
  "language_info": {
   "codemirror_mode": {
    "name": "ipython",
    "version": 2
   },
   "file_extension": ".py",
   "mimetype": "text/x-python",
   "name": "python",
   "nbconvert_exporter": "python",
   "pygments_lexer": "ipython2",
   "version": "2.7.6"
  }
 },
 "nbformat": 4,
 "nbformat_minor": 0
}
