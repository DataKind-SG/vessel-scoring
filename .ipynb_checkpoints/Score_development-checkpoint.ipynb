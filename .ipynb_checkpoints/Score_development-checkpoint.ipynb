{
 "cells": [
  {
   "cell_type": "code",
   "execution_count": 1,
   "metadata": {
    "collapsed": false
   },
   "outputs": [
    {
     "name": "stdout",
     "output_type": "stream",
     "text": [
      "Populating the interactive namespace from numpy and matplotlib\n"
     ]
    }
   ],
   "source": [
    "%pylab inline"
   ]
  },
  {
   "cell_type": "code",
   "execution_count": 2,
   "metadata": {
    "collapsed": false
   },
   "outputs": [],
   "source": [
    "import csv\n",
    "from scipy.optimize import *\n",
    "from numpy.lib.recfunctions import *\n",
    "from utils import *\n",
    "from data import *"
   ]
  },
  {
   "cell_type": "code",
   "execution_count": 2,
   "metadata": {
    "collapsed": false
   },
   "outputs": [
    {
     "data": {
      "text/plain": [
       "('measure_new_score',\n",
       " 'classification',\n",
       " 'classification_longliner',\n",
       " 'classification_purse_seine',\n",
       " 'speed',\n",
       " 'measure_coursestddev',\n",
       " 'measure_speedstddev',\n",
       " 'measure_speedavg',\n",
       " 'distance_to_shore')"
      ]
     },
     "execution_count": 2,
     "metadata": {},
     "output_type": "execute_result"
    }
   ],
   "source": [
    "# Print data columns\n",
    "x.dtype.names"
   ]
  },
  {
   "cell_type": "code",
   "execution_count": null,
   "metadata": {
    "collapsed": false
   },
   "outputs": [],
   "source": [
    "histfix = figure(figsize=(20,20))\n",
    "\n",
    "histfix.add_subplot(411)\n",
    "\n",
    "xfishy_hist = center_hist_bins(hist(clamp(xfishy[\"speed\"]/17, 0, 1), bins=50, normed=True, color='b', alpha=0.5, label=\"fishy speed\"))\n",
    "xnonfishy_hist = center_hist_bins(hist(clamp(xnonfishy[\"speed\"]/17, 0, 1), bins=50, normed=True, color='r', alpha=0.5, label=\"nonfishy speed\"))\n",
    "\n",
    "x_hist = (xfishy_hist[0] - xnonfishy_hist[0], xfishy_hist[1])\n",
    "\n",
    "speed_args = curve_fit(polynomial, x_hist[1], x_hist[0], [1]*6)[0]\n",
    "\n",
    "plot(x_hist[1], x_hist[0], color='b', label='fishy-nonfishy')\n",
    "plot(x_hist[1], [polynomial(value, *speed_args) for value in x_hist[1]], color='r', label='fishy score')\n",
    "\n",
    "legend()\n",
    "\n",
    "\n",
    "\n",
    "histfix.add_subplot(412).set_ylim(-5, 5)\n",
    "\n",
    "xfishy_hist = center_hist_bins(hist(xfishy[\"measure_speedavg\"], bins=200, normed=True, color='b', alpha=0.5, label=\"fishy speed avg\"))\n",
    "xnonfishy_hist = center_hist_bins(hist(xnonfishy[\"measure_speedavg\"], bins=200, normed=True, color='r', alpha=0.5, label=\"nonfishy speed avg\"))\n",
    "\n",
    "x_hist = (xfishy_hist[0] - xnonfishy_hist[0], xfishy_hist[1])\n",
    "\n",
    "measure_speedavg_args = curve_fit(polynomial, x_hist[1], x_hist[0], [1]*6)[0]\n",
    "\n",
    "plot(x_hist[1], x_hist[0], color='b', label='fishy-nonfishy')\n",
    "plot(x_hist[1], [polynomial(value, *measure_speedavg_args) for value in x_hist[1]], color='r', label='fishy score')\n",
    "\n",
    "legend()\n",
    "\n",
    "\n",
    "\n",
    "histfix.add_subplot(413).set_ylim(-3, 3)\n",
    "\n",
    "xfishy_hist = center_hist_bins(hist(log10(xfishy[\"measure_speedstddev\"]+0.001), bins=200, normed=True, color='b', alpha=0.5, label=\"fishy speed stddev log\"))\n",
    "xnonfishy_hist = center_hist_bins(hist(log10(xnonfishy[\"measure_speedstddev\"]+0.001), bins=200, normed=True, color='r', alpha=0.5, label=\"nonfishy speed stddev log\"))\n",
    "\n",
    "x_hist = (xfishy_hist[0] - xnonfishy_hist[0], xfishy_hist[1])\n",
    "\n",
    "measure_speedstddev_args = curve_fit(polynomial, x_hist[1], x_hist[0], [1]*6)[0]\n",
    "\n",
    "plot(x_hist[1], x_hist[0], color='b', label='fishy-nonfishy')\n",
    "plot(x_hist[1], [polynomial(value, *measure_speedstddev_args) for value in x_hist[1]], color='r', label='fishy score')\n",
    "\n",
    "legend()\n",
    "\n",
    "\n",
    "\n",
    "histfix.add_subplot(414).set_ylim(-1.5, 1.5)\n",
    "\n",
    "xfishy_hist = center_hist_bins(hist(log10(xfishy[\"measure_coursestddev\"]+0.001), bins=200, normed=True, color='b', alpha=0.5, label=\"fishy course stddev log\"))\n",
    "xnonfishy_hist = center_hist_bins(hist(log10(xnonfishy[\"measure_coursestddev\"]+0.001), bins=200, normed=True, color='r', alpha=0.5, label=\"nonfishy course stddev log\"))\n",
    "\n",
    "x_hist = (xfishy_hist[0] - xnonfishy_hist[0], xfishy_hist[1])\n",
    "\n",
    "measure_coursestddev_args = curve_fit(polynomial, x_hist[1], x_hist[0], [1]*6)[0]\n",
    "\n",
    "plot(x_hist[1], x_hist[0], color='b', label='fishy-nonfishy')\n",
    "plot(x_hist[1], [polynomial(value, *measure_coursestddev_args) for value in x_hist[1]], color='r', label='fishy score')\n",
    "\n",
    "legend()\n",
    "\n",
    "\n",
    "show()\n",
    "\n"
   ]
  },
  {
   "cell_type": "code",
   "execution_count": 5,
   "metadata": {
    "collapsed": true
   },
   "outputs": [],
   "source": [
    "try:\n",
    "    x = append_fields(x, 'score_speed', [], dtypes='<f8', fill_value=0.0)\n",
    "    x = append_fields(x, 'score_speedavg', [], dtypes='<f8', fill_value=0.0)\n",
    "    x = append_fields(x, 'score_speedstddev', [], dtypes='<f8', fill_value=0.0)\n",
    "    x = append_fields(x, 'score_coursestddev', [], dtypes='<f8', fill_value=0.0)\n",
    "except:\n",
    "    pass\n",
    "\n",
    "x['score_speed'][:] = polynomial(clamp(x[\"speed\"]/17, 0, 1), *speed_args)\n",
    "x['score_speedavg'][:] = polynomial(x[\"measure_speedavg\"], *measure_speedavg_args)\n",
    "x['score_speedstddev'][:] = polynomial(log10(x[\"measure_speedstddev\"]+0.001), *measure_speedstddev_args)\n",
    "x['score_coursestddev'][:] = polynomial(log10(x[\"measure_coursestddev\"]+0.001), *measure_coursestddev_args)\n",
    "\n",
    "xfishy = fishy(x)\n",
    "xnonfishy = nonfishy(x)"
   ]
  },
  {
   "cell_type": "code",
   "execution_count": 8,
   "metadata": {
    "collapsed": true
   },
   "outputs": [],
   "source": [
    "score_args = curve_fit(linear, (x['score_speed'], x['score_speedavg'], x['score_speedstddev'], x['score_coursestddev']), x['classification'], [1]*4)[0]\n",
    "\n",
    "try:\n",
    "    x = append_fields(x, 'score', [], dtypes='<f8', fill_value=0.0)\n",
    "except:\n",
    "    pass\n",
    "\n",
    "x['score'][:] = linear((x['score_speed'], x['score_speedavg'], x['score_speedstddev'], x['score_coursestddev']), *score_args)\n",
    "\n",
    "xfishy = fishy(x)\n",
    "xnonfishy = nonfishy(x)\n"
   ]
  },
  {
   "cell_type": "code",
   "execution_count": 9,
   "metadata": {
    "collapsed": false
   },
   "outputs": [
    {
     "data": {
      "image/png": "[encoded data removed]",
      "text/plain": [
       "<matplotlib.figure.Figure at 0x7f11b4808110>"
      ]
     },
     "metadata": {},
     "output_type": "display_data"
    }
   ],
   "source": [
    "histfig = figure(figsize=(20,5))\n",
    "\n",
    "subplot = histfig.add_subplot(211)\n",
    "new_score_fishy = subplot.hist(xfishy[\"measure_new_score\"][xfishy['distance_to_shore'] > 3], bins=200, normed=False, color='b', alpha=0.5, label=\"fishy score\")\n",
    "new_score_nonfishy = subplot.hist(xnonfishy[\"measure_new_score\"][xnonfishy['distance_to_shore'] > 3], bins=200, normed=False, color='r', alpha=0.5, label=\"nonfishy score\")\n",
    "legend()\n",
    "\n",
    "subplot = histfig.add_subplot(212)\n",
    "score_fishy = subplot.hist(xfishy[\"score\"][xfishy['distance_to_shore'] > 3], bins=200, normed=False, color='b', alpha=0.5, label=\"fishy score\")\n",
    "score_nonfishy = subplot.hist(xnonfishy[\"score\"][xnonfishy['distance_to_shore'] > 3], bins=200, normed=False, color='r', alpha=0.5, label=\"nonfishy score\")\n",
    "legend()\n",
    "\n",
    "\n",
    "show()"
   ]
  },
  {
   "cell_type": "code",
   "execution_count": 14,
   "metadata": {
    "collapsed": false
   },
   "outputs": [
    {
     "name": "stdout",
     "output_type": "stream",
     "text": [
      "Error for measure_new_score: 42.1735850097%\n",
      "Error for score: 41.0911333359%\n"
     ]
    }
   ],
   "source": [
    "total = sum(new_score_fishy[0] + new_score_nonfishy[0])\n",
    "non_overlap = sum(abs(new_score_fishy[0] - new_score_nonfishy[0]))\n",
    "overlap = total - non_overlap\n",
    "error = overlap / total\n",
    "\n",
    "print \"Error for measure_new_score: %s%%\" % (error * 100)\n",
    "\n",
    "\n",
    "total = sum(score_fishy[0] + score_nonfishy[0])\n",
    "non_overlap = sum(abs(score_fishy[0] - score_nonfishy[0]))\n",
    "overlap = total - non_overlap\n",
    "error = overlap / total\n",
    "\n",
    "print \"Error for score: %s%%\" % (error * 100)\n"
   ]
  },
  {
   "cell_type": "code",
   "execution_count": 18,
   "metadata": {
    "collapsed": false
   },
   "outputs": [
    {
     "name": "stdout",
     "output_type": "stream",
     "text": [
      "False positives for measure_new_score: 15.0816005019%\n"
     ]
    }
   ],
   "source": [
    "cutoff = len(new_score_fishy[1][new_score_fishy[1] < 0.5])\n",
    "total = sum(new_score_fishy[0][cutoff:] + new_score_nonfishy[0][cutoff:])\n",
    "non_overlap = sum(abs(new_score_fishy[0][cutoff:] - new_score_nonfishy[0][cutoff:]))\n",
    "overlap = total - non_overlap\n",
    "error = overlap / total\n",
    "\n",
    "print \"False positives for measure_new_score: %s%%\" % (error * 100)\n"
   ]
  },
  {
   "cell_type": "code",
   "execution_count": 17,
   "metadata": {
    "collapsed": false
   },
   "outputs": [
    {
     "data": {
      "text/plain": [
       "102"
      ]
     },
     "execution_count": 17,
     "metadata": {},
     "output_type": "execute_result"
    }
   ],
   "source": []
  },
  {
   "cell_type": "code",
   "execution_count": null,
   "metadata": {
    "collapsed": true
   },
   "outputs": [],
   "source": []
  }
 ],
 "metadata": {
  "kernelspec": {
   "display_name": "Python 2",
   "language": "python",
   "name": "python2"
  },
  "language_info": {
   "codemirror_mode": {
    "name": "ipython",
    "version": 2
   },
   "file_extension": ".py",
   "mimetype": "text/x-python",
   "name": "python",
   "nbconvert_exporter": "python",
   "pygments_lexer": "ipython2",
   "version": "2.7.6"
  }
 },
 "nbformat": 4,
 "nbformat_minor": 0
}
